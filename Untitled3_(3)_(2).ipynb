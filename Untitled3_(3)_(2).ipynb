{
  "nbformat": 4,
  "nbformat_minor": 0,
  "metadata": {
    "colab": {
      "name": "Untitled3 (3) (2).ipynb",
      "provenance": []
    },
    "kernelspec": {
      "name": "python3",
      "display_name": "Python 3"
    },
    "language_info": {
      "name": "python"
    }
  },
  "cells": [
    {
      "cell_type": "markdown",
      "source": [
        "**Heart Disease Prediction**"
      ],
      "metadata": {
        "id": "7nHieFVUfLwr"
      }
    },
    {
      "cell_type": "code",
      "execution_count": null,
      "metadata": {
        "id": "p3th7KBvwn4v"
      },
      "outputs": [],
      "source": [
        "# Basic Libraries\n",
        "import pandas as pd\n",
        "import seaborn as sns\n",
        "\n",
        "import numpy as np\n",
        "from numpy import mean\n",
        "from numpy import std\n",
        "\n",
        "import matplotlib.pyplot as plt\n",
        "from matplotlib.colors import ListedColormap\n",
        "from scipy.stats.mstats import winsorize\n",
        "import scipy.stats as ss\n",
        "import math"
      ]
    },
    {
      "cell_type": "code",
      "execution_count": null,
      "metadata": {
        "id": "6msqkhai_Yh2"
      },
      "outputs": [],
      "source": [
        "# Scikit learn\n",
        "from sklearn.model_selection import train_test_split\n",
        "from sklearn.preprocessing import StandardScaler\n",
        "from sklearn.linear_model import Perceptron\n",
        "from sklearn.naive_bayes import GaussianNB\n",
        "from sklearn.neighbors import KNeighborsClassifier\n",
        "from sklearn.svm import SVC\n",
        "from sklearn.tree import DecisionTreeClassifier\n",
        "from sklearn.linear_model import LogisticRegression\n",
        "from sklearn.neural_network import MLPClassifier\n",
        "from sklearn.ensemble import RandomForestClassifier\n",
        "from sklearn.ensemble import RandomForestClassifier\n",
        "from sklearn.pipeline import make_pipeline\n",
        "from sklearn.metrics import confusion_matrix\n",
        "from sklearn.metrics import classification_report\n",
        "from sklearn.metrics import roc_auc_score\n",
        "from sklearn.metrics import log_loss\n",
        "from sklearn.metrics import accuracy_score\n",
        "from sklearn.metrics import recall_score\n",
        "from sklearn.metrics import balanced_accuracy_score\n",
        "from sklearn.metrics import f1_score\n",
        "from sklearn.model_selection import cross_val_score\n",
        "from sklearn.pipeline import Pipeline\n",
        "from sklearn.model_selection import KFold\n",
        "from sklearn.model_selection import StratifiedKFold\n",
        "from sklearn.model_selection import RepeatedStratifiedKFold\n",
        "from sklearn.model_selection import learning_curve\n",
        "from sklearn.model_selection import GridSearchCV\n"
      ]
    },
    {
      "cell_type": "code",
      "execution_count": null,
      "metadata": {
        "id": "p7XL_KuEN06K"
      },
      "outputs": [],
      "source": [
        "# imblearn\n",
        "from imblearn.over_sampling import SMOTE\n",
        "from imblearn.pipeline import Pipeline as imbpipeline\n"
      ]
    },
    {
      "cell_type": "code",
      "execution_count": null,
      "metadata": {
        "id": "MQ9dydq_NuWk"
      },
      "outputs": [],
      "source": [
        "# XGBoost\n",
        "from xgboost import XGBClassifier\n"
      ]
    },
    {
      "cell_type": "code",
      "execution_count": null,
      "metadata": {
        "id": "TD-cBUg7NxPU"
      },
      "outputs": [],
      "source": [
        "# LightGBM\n",
        "#!pip install lightgbm\n",
        "from lightgbm import LGBMClassifier\n"
      ]
    },
    {
      "cell_type": "code",
      "source": [
        "# scikitplot\n",
        "!pip install scikit-plot\n",
        "import scikitplot as skplt"
      ],
      "metadata": {
        "colab": {
          "base_uri": "https://localhost:8080/"
        },
        "id": "mACZu71RdWGa",
        "outputId": "92d84552-b045-4d21-e568-b6551f0106f6"
      },
      "execution_count": null,
      "outputs": [
        {
          "output_type": "stream",
          "name": "stdout",
          "text": [
            "Collecting scikit-plot\n",
            "  Downloading scikit_plot-0.3.7-py3-none-any.whl (33 kB)\n",
            "Requirement already satisfied: joblib>=0.10 in /usr/local/lib/python3.7/dist-packages (from scikit-plot) (1.1.0)\n",
            "Requirement already satisfied: scipy>=0.9 in /usr/local/lib/python3.7/dist-packages (from scikit-plot) (1.4.1)\n",
            "Requirement already satisfied: scikit-learn>=0.18 in /usr/local/lib/python3.7/dist-packages (from scikit-plot) (1.0.2)\n",
            "Requirement already satisfied: matplotlib>=1.4.0 in /usr/local/lib/python3.7/dist-packages (from scikit-plot) (3.2.2)\n",
            "Requirement already satisfied: kiwisolver>=1.0.1 in /usr/local/lib/python3.7/dist-packages (from matplotlib>=1.4.0->scikit-plot) (1.3.2)\n",
            "Requirement already satisfied: pyparsing!=2.0.4,!=2.1.2,!=2.1.6,>=2.0.1 in /usr/local/lib/python3.7/dist-packages (from matplotlib>=1.4.0->scikit-plot) (3.0.7)\n",
            "Requirement already satisfied: numpy>=1.11 in /usr/local/lib/python3.7/dist-packages (from matplotlib>=1.4.0->scikit-plot) (1.21.5)\n",
            "Requirement already satisfied: cycler>=0.10 in /usr/local/lib/python3.7/dist-packages (from matplotlib>=1.4.0->scikit-plot) (0.11.0)\n",
            "Requirement already satisfied: python-dateutil>=2.1 in /usr/local/lib/python3.7/dist-packages (from matplotlib>=1.4.0->scikit-plot) (2.8.2)\n",
            "Requirement already satisfied: six>=1.5 in /usr/local/lib/python3.7/dist-packages (from python-dateutil>=2.1->matplotlib>=1.4.0->scikit-plot) (1.15.0)\n",
            "Requirement already satisfied: threadpoolctl>=2.0.0 in /usr/local/lib/python3.7/dist-packages (from scikit-learn>=0.18->scikit-plot) (3.1.0)\n",
            "Installing collected packages: scikit-plot\n",
            "Successfully installed scikit-plot-0.3.7\n"
          ]
        }
      ]
    },
    {
      "cell_type": "code",
      "execution_count": null,
      "metadata": {
        "colab": {
          "base_uri": "https://localhost:8080/"
        },
        "id": "nIiFMMaLs-pJ",
        "outputId": "bbb12a97-8bfd-43e1-f115-83d5af18a9ba"
      },
      "outputs": [
        {
          "output_type": "stream",
          "name": "stdout",
          "text": [
            "Drive already mounted at /content/drive; to attempt to forcibly remount, call drive.mount(\"/content/drive\", force_remount=True).\n"
          ]
        }
      ],
      "source": [
        "# Read Data\n",
        "# Mount drive\n",
        "from google.colab import drive\n",
        "drive.mount('/content/drive')\n",
        "\n",
        "# Read \n",
        "file_ = \"drive/My Drive/Heart Attack Data Set.csv\"   \n",
        "df = pd.read_csv(file_) # read in csv file"
      ]
    },
    {
      "cell_type": "code",
      "execution_count": null,
      "metadata": {
        "colab": {
          "base_uri": "https://localhost:8080/",
          "height": 223
        },
        "id": "--mZ5CJqWaaR",
        "outputId": "0ade108b-0764-4138-8e7d-97312f7316cd"
      },
      "outputs": [
        {
          "output_type": "stream",
          "name": "stdout",
          "text": [
            "Shape (303, 14)\n"
          ]
        },
        {
          "output_type": "execute_result",
          "data": {
            "text/plain": [
              "   age  sex  cp  trestbps  chol  fbs  restecg  thalach  exang  oldpeak  slope  \\\n",
              "0   63    1   3       145   233    1        0      150      0      2.3      0   \n",
              "1   37    1   2       130   250    0        1      187      0      3.5      0   \n",
              "2   41    0   1       130   204    0        0      172      0      1.4      2   \n",
              "3   56    1   1       120   236    0        1      178      0      0.8      2   \n",
              "4   57    0   0       120   354    0        1      163      1      0.6      2   \n",
              "\n",
              "   ca  thal  target  \n",
              "0   0     1       1  \n",
              "1   0     2       1  \n",
              "2   0     2       1  \n",
              "3   0     2       1  \n",
              "4   0     2       1  "
            ],
            "text/html": [
              "\n",
              "  <div id=\"df-078dc2a8-29f6-45ce-ab70-c01d5e0b4b41\">\n",
              "    <div class=\"colab-df-container\">\n",
              "      <div>\n",
              "<style scoped>\n",
              "    .dataframe tbody tr th:only-of-type {\n",
              "        vertical-align: middle;\n",
              "    }\n",
              "\n",
              "    .dataframe tbody tr th {\n",
              "        vertical-align: top;\n",
              "    }\n",
              "\n",
              "    .dataframe thead th {\n",
              "        text-align: right;\n",
              "    }\n",
              "</style>\n",
              "<table border=\"1\" class=\"dataframe\">\n",
              "  <thead>\n",
              "    <tr style=\"text-align: right;\">\n",
              "      <th></th>\n",
              "      <th>age</th>\n",
              "      <th>sex</th>\n",
              "      <th>cp</th>\n",
              "      <th>trestbps</th>\n",
              "      <th>chol</th>\n",
              "      <th>fbs</th>\n",
              "      <th>restecg</th>\n",
              "      <th>thalach</th>\n",
              "      <th>exang</th>\n",
              "      <th>oldpeak</th>\n",
              "      <th>slope</th>\n",
              "      <th>ca</th>\n",
              "      <th>thal</th>\n",
              "      <th>target</th>\n",
              "    </tr>\n",
              "  </thead>\n",
              "  <tbody>\n",
              "    <tr>\n",
              "      <th>0</th>\n",
              "      <td>63</td>\n",
              "      <td>1</td>\n",
              "      <td>3</td>\n",
              "      <td>145</td>\n",
              "      <td>233</td>\n",
              "      <td>1</td>\n",
              "      <td>0</td>\n",
              "      <td>150</td>\n",
              "      <td>0</td>\n",
              "      <td>2.3</td>\n",
              "      <td>0</td>\n",
              "      <td>0</td>\n",
              "      <td>1</td>\n",
              "      <td>1</td>\n",
              "    </tr>\n",
              "    <tr>\n",
              "      <th>1</th>\n",
              "      <td>37</td>\n",
              "      <td>1</td>\n",
              "      <td>2</td>\n",
              "      <td>130</td>\n",
              "      <td>250</td>\n",
              "      <td>0</td>\n",
              "      <td>1</td>\n",
              "      <td>187</td>\n",
              "      <td>0</td>\n",
              "      <td>3.5</td>\n",
              "      <td>0</td>\n",
              "      <td>0</td>\n",
              "      <td>2</td>\n",
              "      <td>1</td>\n",
              "    </tr>\n",
              "    <tr>\n",
              "      <th>2</th>\n",
              "      <td>41</td>\n",
              "      <td>0</td>\n",
              "      <td>1</td>\n",
              "      <td>130</td>\n",
              "      <td>204</td>\n",
              "      <td>0</td>\n",
              "      <td>0</td>\n",
              "      <td>172</td>\n",
              "      <td>0</td>\n",
              "      <td>1.4</td>\n",
              "      <td>2</td>\n",
              "      <td>0</td>\n",
              "      <td>2</td>\n",
              "      <td>1</td>\n",
              "    </tr>\n",
              "    <tr>\n",
              "      <th>3</th>\n",
              "      <td>56</td>\n",
              "      <td>1</td>\n",
              "      <td>1</td>\n",
              "      <td>120</td>\n",
              "      <td>236</td>\n",
              "      <td>0</td>\n",
              "      <td>1</td>\n",
              "      <td>178</td>\n",
              "      <td>0</td>\n",
              "      <td>0.8</td>\n",
              "      <td>2</td>\n",
              "      <td>0</td>\n",
              "      <td>2</td>\n",
              "      <td>1</td>\n",
              "    </tr>\n",
              "    <tr>\n",
              "      <th>4</th>\n",
              "      <td>57</td>\n",
              "      <td>0</td>\n",
              "      <td>0</td>\n",
              "      <td>120</td>\n",
              "      <td>354</td>\n",
              "      <td>0</td>\n",
              "      <td>1</td>\n",
              "      <td>163</td>\n",
              "      <td>1</td>\n",
              "      <td>0.6</td>\n",
              "      <td>2</td>\n",
              "      <td>0</td>\n",
              "      <td>2</td>\n",
              "      <td>1</td>\n",
              "    </tr>\n",
              "  </tbody>\n",
              "</table>\n",
              "</div>\n",
              "      <button class=\"colab-df-convert\" onclick=\"convertToInteractive('df-078dc2a8-29f6-45ce-ab70-c01d5e0b4b41')\"\n",
              "              title=\"Convert this dataframe to an interactive table.\"\n",
              "              style=\"display:none;\">\n",
              "        \n",
              "  <svg xmlns=\"http://www.w3.org/2000/svg\" height=\"24px\"viewBox=\"0 0 24 24\"\n",
              "       width=\"24px\">\n",
              "    <path d=\"M0 0h24v24H0V0z\" fill=\"none\"/>\n",
              "    <path d=\"M18.56 5.44l.94 2.06.94-2.06 2.06-.94-2.06-.94-.94-2.06-.94 2.06-2.06.94zm-11 1L8.5 8.5l.94-2.06 2.06-.94-2.06-.94L8.5 2.5l-.94 2.06-2.06.94zm10 10l.94 2.06.94-2.06 2.06-.94-2.06-.94-.94-2.06-.94 2.06-2.06.94z\"/><path d=\"M17.41 7.96l-1.37-1.37c-.4-.4-.92-.59-1.43-.59-.52 0-1.04.2-1.43.59L10.3 9.45l-7.72 7.72c-.78.78-.78 2.05 0 2.83L4 21.41c.39.39.9.59 1.41.59.51 0 1.02-.2 1.41-.59l7.78-7.78 2.81-2.81c.8-.78.8-2.07 0-2.86zM5.41 20L4 18.59l7.72-7.72 1.47 1.35L5.41 20z\"/>\n",
              "  </svg>\n",
              "      </button>\n",
              "      \n",
              "  <style>\n",
              "    .colab-df-container {\n",
              "      display:flex;\n",
              "      flex-wrap:wrap;\n",
              "      gap: 12px;\n",
              "    }\n",
              "\n",
              "    .colab-df-convert {\n",
              "      background-color: #E8F0FE;\n",
              "      border: none;\n",
              "      border-radius: 50%;\n",
              "      cursor: pointer;\n",
              "      display: none;\n",
              "      fill: #1967D2;\n",
              "      height: 32px;\n",
              "      padding: 0 0 0 0;\n",
              "      width: 32px;\n",
              "    }\n",
              "\n",
              "    .colab-df-convert:hover {\n",
              "      background-color: #E2EBFA;\n",
              "      box-shadow: 0px 1px 2px rgba(60, 64, 67, 0.3), 0px 1px 3px 1px rgba(60, 64, 67, 0.15);\n",
              "      fill: #174EA6;\n",
              "    }\n",
              "\n",
              "    [theme=dark] .colab-df-convert {\n",
              "      background-color: #3B4455;\n",
              "      fill: #D2E3FC;\n",
              "    }\n",
              "\n",
              "    [theme=dark] .colab-df-convert:hover {\n",
              "      background-color: #434B5C;\n",
              "      box-shadow: 0px 1px 3px 1px rgba(0, 0, 0, 0.15);\n",
              "      filter: drop-shadow(0px 1px 2px rgba(0, 0, 0, 0.3));\n",
              "      fill: #FFFFFF;\n",
              "    }\n",
              "  </style>\n",
              "\n",
              "      <script>\n",
              "        const buttonEl =\n",
              "          document.querySelector('#df-078dc2a8-29f6-45ce-ab70-c01d5e0b4b41 button.colab-df-convert');\n",
              "        buttonEl.style.display =\n",
              "          google.colab.kernel.accessAllowed ? 'block' : 'none';\n",
              "\n",
              "        async function convertToInteractive(key) {\n",
              "          const element = document.querySelector('#df-078dc2a8-29f6-45ce-ab70-c01d5e0b4b41');\n",
              "          const dataTable =\n",
              "            await google.colab.kernel.invokeFunction('convertToInteractive',\n",
              "                                                     [key], {});\n",
              "          if (!dataTable) return;\n",
              "\n",
              "          const docLinkHtml = 'Like what you see? Visit the ' +\n",
              "            '<a target=\"_blank\" href=https://colab.research.google.com/notebooks/data_table.ipynb>data table notebook</a>'\n",
              "            + ' to learn more about interactive tables.';\n",
              "          element.innerHTML = '';\n",
              "          dataTable['output_type'] = 'display_data';\n",
              "          await google.colab.output.renderOutput(dataTable, element);\n",
              "          const docLink = document.createElement('div');\n",
              "          docLink.innerHTML = docLinkHtml;\n",
              "          element.appendChild(docLink);\n",
              "        }\n",
              "      </script>\n",
              "    </div>\n",
              "  </div>\n",
              "  "
            ]
          },
          "metadata": {},
          "execution_count": 18
        }
      ],
      "source": [
        "\n",
        "# Shape of df\n",
        "print(\"Shape\", df.shape)\n",
        "\n",
        "\n",
        "# Head  tail of df\n",
        "df.head()\n"
      ]
    },
    {
      "cell_type": "code",
      "execution_count": null,
      "metadata": {
        "colab": {
          "base_uri": "https://localhost:8080/"
        },
        "id": "neO0P71LXH2G",
        "outputId": "c5ffd591-ff77-4a2d-e9b9-27049541eef8"
      },
      "outputs": [
        {
          "output_type": "stream",
          "name": "stdout",
          "text": [
            "\n",
            " Duplicates: 1\n"
          ]
        }
      ],
      "source": [
        "# Check for duplicates\n",
        "print('\\n Duplicates:',df.duplicated().sum())"
      ]
    },
    {
      "cell_type": "code",
      "execution_count": null,
      "metadata": {
        "colab": {
          "base_uri": "https://localhost:8080/",
          "height": 699
        },
        "id": "ZHUjNztAxK1K",
        "outputId": "a02e47ff-a457-44c6-c1f7-dc0296bc328b"
      },
      "outputs": [
        {
          "output_type": "stream",
          "name": "stdout",
          "text": [
            "\n",
            "\n",
            "Missing Values\n",
            " age         0\n",
            "sex         0\n",
            "cp          0\n",
            "trestbps    0\n",
            "chol        0\n",
            "fbs         0\n",
            "restecg     0\n",
            "thalach     0\n",
            "exang       0\n",
            "oldpeak     0\n",
            "slope       0\n",
            "ca          0\n",
            "thal        0\n",
            "target      0\n",
            "dtype: int64\n"
          ]
        },
        {
          "output_type": "display_data",
          "data": {
            "text/plain": [
              "<Figure size 720x432 with 2 Axes>"
            ],
            "image/png": "[encoded data removed]"
          },
          "metadata": {}
        }
      ],
      "source": [
        "# Check for missing values\n",
        "print('\\n\\nMissing Values\\n',df.isnull().sum(axis=0))\n",
        "\n",
        "# Missing value heatmap\n",
        "plt.figure(figsize=(10,6))\n",
        "sns.heatmap(df.isna().transpose(),\n",
        "            cmap=\"YlGnBu\",\n",
        "            cbar_kws={'label': 'Missing Data Heatmap'})\n",
        "plt.show()"
      ]
    },
    {
      "cell_type": "code",
      "source": [
        "# Split Predictors\n",
        "X = df.drop(['target'],axis=1)\n",
        "y = df['target']\n",
        "X.head()"
      ],
      "metadata": {
        "colab": {
          "base_uri": "https://localhost:8080/",
          "height": 206
        },
        "id": "Ft_qCuZW5IDb",
        "outputId": "4f2b32e3-089d-40c3-da5f-6370e8ba0999"
      },
      "execution_count": null,
      "outputs": [
        {
          "output_type": "execute_result",
          "data": {
            "text/plain": [
              "   age  sex  cp  trestbps  chol  fbs  restecg  thalach  exang  oldpeak  slope  \\\n",
              "0   63    1   3       145   233    1        0      150      0      2.3      0   \n",
              "1   37    1   2       130   250    0        1      187      0      3.5      0   \n",
              "2   41    0   1       130   204    0        0      172      0      1.4      2   \n",
              "3   56    1   1       120   236    0        1      178      0      0.8      2   \n",
              "4   57    0   0       120   354    0        1      163      1      0.6      2   \n",
              "\n",
              "   ca  thal  \n",
              "0   0     1  \n",
              "1   0     2  \n",
              "2   0     2  \n",
              "3   0     2  \n",
              "4   0     2  "
            ],
            "text/html": [
              "\n",
              "  <div id=\"df-dd177172-7d31-41ea-b562-5002b4bff558\">\n",
              "    <div class=\"colab-df-container\">\n",
              "      <div>\n",
              "<style scoped>\n",
              "    .dataframe tbody tr th:only-of-type {\n",
              "        vertical-align: middle;\n",
              "    }\n",
              "\n",
              "    .dataframe tbody tr th {\n",
              "        vertical-align: top;\n",
              "    }\n",
              "\n",
              "    .dataframe thead th {\n",
              "        text-align: right;\n",
              "    }\n",
              "</style>\n",
              "<table border=\"1\" class=\"dataframe\">\n",
              "  <thead>\n",
              "    <tr style=\"text-align: right;\">\n",
              "      <th></th>\n",
              "      <th>age</th>\n",
              "      <th>sex</th>\n",
              "      <th>cp</th>\n",
              "      <th>trestbps</th>\n",
              "      <th>chol</th>\n",
              "      <th>fbs</th>\n",
              "      <th>restecg</th>\n",
              "      <th>thalach</th>\n",
              "      <th>exang</th>\n",
              "      <th>oldpeak</th>\n",
              "      <th>slope</th>\n",
              "      <th>ca</th>\n",
              "      <th>thal</th>\n",
              "    </tr>\n",
              "  </thead>\n",
              "  <tbody>\n",
              "    <tr>\n",
              "      <th>0</th>\n",
              "      <td>63</td>\n",
              "      <td>1</td>\n",
              "      <td>3</td>\n",
              "      <td>145</td>\n",
              "      <td>233</td>\n",
              "      <td>1</td>\n",
              "      <td>0</td>\n",
              "      <td>150</td>\n",
              "      <td>0</td>\n",
              "      <td>2.3</td>\n",
              "      <td>0</td>\n",
              "      <td>0</td>\n",
              "      <td>1</td>\n",
              "    </tr>\n",
              "    <tr>\n",
              "      <th>1</th>\n",
              "      <td>37</td>\n",
              "      <td>1</td>\n",
              "      <td>2</td>\n",
              "      <td>130</td>\n",
              "      <td>250</td>\n",
              "      <td>0</td>\n",
              "      <td>1</td>\n",
              "      <td>187</td>\n",
              "      <td>0</td>\n",
              "      <td>3.5</td>\n",
              "      <td>0</td>\n",
              "      <td>0</td>\n",
              "      <td>2</td>\n",
              "    </tr>\n",
              "    <tr>\n",
              "      <th>2</th>\n",
              "      <td>41</td>\n",
              "      <td>0</td>\n",
              "      <td>1</td>\n",
              "      <td>130</td>\n",
              "      <td>204</td>\n",
              "      <td>0</td>\n",
              "      <td>0</td>\n",
              "      <td>172</td>\n",
              "      <td>0</td>\n",
              "      <td>1.4</td>\n",
              "      <td>2</td>\n",
              "      <td>0</td>\n",
              "      <td>2</td>\n",
              "    </tr>\n",
              "    <tr>\n",
              "      <th>3</th>\n",
              "      <td>56</td>\n",
              "      <td>1</td>\n",
              "      <td>1</td>\n",
              "      <td>120</td>\n",
              "      <td>236</td>\n",
              "      <td>0</td>\n",
              "      <td>1</td>\n",
              "      <td>178</td>\n",
              "      <td>0</td>\n",
              "      <td>0.8</td>\n",
              "      <td>2</td>\n",
              "      <td>0</td>\n",
              "      <td>2</td>\n",
              "    </tr>\n",
              "    <tr>\n",
              "      <th>4</th>\n",
              "      <td>57</td>\n",
              "      <td>0</td>\n",
              "      <td>0</td>\n",
              "      <td>120</td>\n",
              "      <td>354</td>\n",
              "      <td>0</td>\n",
              "      <td>1</td>\n",
              "      <td>163</td>\n",
              "      <td>1</td>\n",
              "      <td>0.6</td>\n",
              "      <td>2</td>\n",
              "      <td>0</td>\n",
              "      <td>2</td>\n",
              "    </tr>\n",
              "  </tbody>\n",
              "</table>\n",
              "</div>\n",
              "      <button class=\"colab-df-convert\" onclick=\"convertToInteractive('df-dd177172-7d31-41ea-b562-5002b4bff558')\"\n",
              "              title=\"Convert this dataframe to an interactive table.\"\n",
              "              style=\"display:none;\">\n",
              "        \n",
              "  <svg xmlns=\"http://www.w3.org/2000/svg\" height=\"24px\"viewBox=\"0 0 24 24\"\n",
              "       width=\"24px\">\n",
              "    <path d=\"M0 0h24v24H0V0z\" fill=\"none\"/>\n",
              "    <path d=\"M18.56 5.44l.94 2.06.94-2.06 2.06-.94-2.06-.94-.94-2.06-.94 2.06-2.06.94zm-11 1L8.5 8.5l.94-2.06 2.06-.94-2.06-.94L8.5 2.5l-.94 2.06-2.06.94zm10 10l.94 2.06.94-2.06 2.06-.94-2.06-.94-.94-2.06-.94 2.06-2.06.94z\"/><path d=\"M17.41 7.96l-1.37-1.37c-.4-.4-.92-.59-1.43-.59-.52 0-1.04.2-1.43.59L10.3 9.45l-7.72 7.72c-.78.78-.78 2.05 0 2.83L4 21.41c.39.39.9.59 1.41.59.51 0 1.02-.2 1.41-.59l7.78-7.78 2.81-2.81c.8-.78.8-2.07 0-2.86zM5.41 20L4 18.59l7.72-7.72 1.47 1.35L5.41 20z\"/>\n",
              "  </svg>\n",
              "      </button>\n",
              "      \n",
              "  <style>\n",
              "    .colab-df-container {\n",
              "      display:flex;\n",
              "      flex-wrap:wrap;\n",
              "      gap: 12px;\n",
              "    }\n",
              "\n",
              "    .colab-df-convert {\n",
              "      background-color: #E8F0FE;\n",
              "      border: none;\n",
              "      border-radius: 50%;\n",
              "      cursor: pointer;\n",
              "      display: none;\n",
              "      fill: #1967D2;\n",
              "      height: 32px;\n",
              "      padding: 0 0 0 0;\n",
              "      width: 32px;\n",
              "    }\n",
              "\n",
              "    .colab-df-convert:hover {\n",
              "      background-color: #E2EBFA;\n",
              "      box-shadow: 0px 1px 2px rgba(60, 64, 67, 0.3), 0px 1px 3px 1px rgba(60, 64, 67, 0.15);\n",
              "      fill: #174EA6;\n",
              "    }\n",
              "\n",
              "    [theme=dark] .colab-df-convert {\n",
              "      background-color: #3B4455;\n",
              "      fill: #D2E3FC;\n",
              "    }\n",
              "\n",
              "    [theme=dark] .colab-df-convert:hover {\n",
              "      background-color: #434B5C;\n",
              "      box-shadow: 0px 1px 3px 1px rgba(0, 0, 0, 0.15);\n",
              "      filter: drop-shadow(0px 1px 2px rgba(0, 0, 0, 0.3));\n",
              "      fill: #FFFFFF;\n",
              "    }\n",
              "  </style>\n",
              "\n",
              "      <script>\n",
              "        const buttonEl =\n",
              "          document.querySelector('#df-dd177172-7d31-41ea-b562-5002b4bff558 button.colab-df-convert');\n",
              "        buttonEl.style.display =\n",
              "          google.colab.kernel.accessAllowed ? 'block' : 'none';\n",
              "\n",
              "        async function convertToInteractive(key) {\n",
              "          const element = document.querySelector('#df-dd177172-7d31-41ea-b562-5002b4bff558');\n",
              "          const dataTable =\n",
              "            await google.colab.kernel.invokeFunction('convertToInteractive',\n",
              "                                                     [key], {});\n",
              "          if (!dataTable) return;\n",
              "\n",
              "          const docLinkHtml = 'Like what you see? Visit the ' +\n",
              "            '<a target=\"_blank\" href=https://colab.research.google.com/notebooks/data_table.ipynb>data table notebook</a>'\n",
              "            + ' to learn more about interactive tables.';\n",
              "          element.innerHTML = '';\n",
              "          dataTable['output_type'] = 'display_data';\n",
              "          await google.colab.output.renderOutput(dataTable, element);\n",
              "          const docLink = document.createElement('div');\n",
              "          docLink.innerHTML = docLinkHtml;\n",
              "          element.appendChild(docLink);\n",
              "        }\n",
              "      </script>\n",
              "    </div>\n",
              "  </div>\n",
              "  "
            ]
          },
          "metadata": {},
          "execution_count": 21
        }
      ]
    },
    {
      "cell_type": "code",
      "source": [
        "# Create holdout sample\n",
        "X_train, X_test, y_train, y_test = train_test_split(X, y, test_size=0.3, random_state=42)\n",
        "print('Training Data Predictors\\n',X_train.head(), '\\nTraining Data Target\\n',y_train.head(),'\\n')\n",
        "print('Test Data Predictors\\n',X_test.head(), '\\nTest Data Target\\n',y_test.head())\n"
      ],
      "metadata": {
        "colab": {
          "base_uri": "https://localhost:8080/"
        },
        "id": "9WwNVDZK-huM",
        "outputId": "bb5d1a81-3088-454c-d15a-231073d06e9f"
      },
      "execution_count": null,
      "outputs": [
        {
          "output_type": "stream",
          "name": "stdout",
          "text": [
            "Training Data Predictors\n",
            "      age  sex  cp  trestbps  chol  fbs  restecg  thalach  exang  oldpeak  \\\n",
            "124   39    0   2        94   199    0        1      179      0      0.0   \n",
            "72    29    1   1       130   204    0        0      202      0      0.0   \n",
            "15    50    0   2       120   219    0        1      158      0      1.6   \n",
            "10    54    1   0       140   239    0        1      160      0      1.2   \n",
            "163   38    1   2       138   175    0        1      173      0      0.0   \n",
            "\n",
            "     slope  ca  thal  \n",
            "124      2   0     2  \n",
            "72       2   0     2  \n",
            "15       1   0     2  \n",
            "10       2   0     2  \n",
            "163      2   4     2   \n",
            "Training Data Target\n",
            " 124    1\n",
            "72     1\n",
            "15     1\n",
            "10     1\n",
            "163    1\n",
            "Name: target, dtype: int64 \n",
            "\n",
            "Test Data Predictors\n",
            "      age  sex  cp  trestbps  chol  fbs  restecg  thalach  exang  oldpeak  \\\n",
            "179   57    1   0       150   276    0        0      112      1      0.6   \n",
            "228   59    1   3       170   288    0        0      159      0      0.2   \n",
            "111   57    1   2       150   126    1        1      173      0      0.2   \n",
            "246   56    0   0       134   409    0        0      150      1      1.9   \n",
            "60    71    0   2       110   265    1        0      130      0      0.0   \n",
            "\n",
            "     slope  ca  thal  \n",
            "179      1   1     1  \n",
            "228      1   0     3  \n",
            "111      2   1     3  \n",
            "246      1   2     3  \n",
            "60       2   1     2   \n",
            "Test Data Target\n",
            " 179    0\n",
            "228    0\n",
            "111    1\n",
            "246    0\n",
            "60     1\n",
            "Name: target, dtype: int64\n"
          ]
        }
      ]
    },
    {
      "cell_type": "code",
      "source": [
        "y_train.describe()"
      ],
      "metadata": {
        "colab": {
          "base_uri": "https://localhost:8080/"
        },
        "id": "7nGSYEGO5kwf",
        "outputId": "f6cb5c6a-4034-46f2-d460-0ebed8393998"
      },
      "execution_count": null,
      "outputs": [
        {
          "output_type": "execute_result",
          "data": {
            "text/plain": [
              "count    212.000000\n",
              "mean       0.542453\n",
              "std        0.499374\n",
              "min        0.000000\n",
              "25%        0.000000\n",
              "50%        1.000000\n",
              "75%        1.000000\n",
              "max        1.000000\n",
              "Name: target, dtype: float64"
            ]
          },
          "metadata": {},
          "execution_count": 23
        }
      ]
    },
    {
      "cell_type": "code",
      "source": [
        "df.describe()"
      ],
      "metadata": {
        "colab": {
          "base_uri": "https://localhost:8080/",
          "height": 300
        },
        "id": "XUA1Caa3jgzu",
        "outputId": "e54f6b61-35bb-4efe-d2a0-2a5f3a3dac31"
      },
      "execution_count": null,
      "outputs": [
        {
          "output_type": "execute_result",
          "data": {
            "text/plain": [
              "              age         sex          cp    trestbps        chol         fbs  \\\n",
              "count  303.000000  303.000000  303.000000  303.000000  303.000000  303.000000   \n",
              "mean    54.366337    0.683168    0.966997  131.623762  246.264026    0.148515   \n",
              "std      9.082101    0.466011    1.032052   17.538143   51.830751    0.356198   \n",
              "min     29.000000    0.000000    0.000000   94.000000  126.000000    0.000000   \n",
              "25%     47.500000    0.000000    0.000000  120.000000  211.000000    0.000000   \n",
              "50%     55.000000    1.000000    1.000000  130.000000  240.000000    0.000000   \n",
              "75%     61.000000    1.000000    2.000000  140.000000  274.500000    0.000000   \n",
              "max     77.000000    1.000000    3.000000  200.000000  564.000000    1.000000   \n",
              "\n",
              "          restecg     thalach       exang     oldpeak       slope          ca  \\\n",
              "count  303.000000  303.000000  303.000000  303.000000  303.000000  303.000000   \n",
              "mean     0.528053  149.646865    0.326733    1.039604    1.399340    0.729373   \n",
              "std      0.525860   22.905161    0.469794    1.161075    0.616226    1.022606   \n",
              "min      0.000000   71.000000    0.000000    0.000000    0.000000    0.000000   \n",
              "25%      0.000000  133.500000    0.000000    0.000000    1.000000    0.000000   \n",
              "50%      1.000000  153.000000    0.000000    0.800000    1.000000    0.000000   \n",
              "75%      1.000000  166.000000    1.000000    1.600000    2.000000    1.000000   \n",
              "max      2.000000  202.000000    1.000000    6.200000    2.000000    4.000000   \n",
              "\n",
              "             thal      target  \n",
              "count  303.000000  303.000000  \n",
              "mean     2.313531    0.544554  \n",
              "std      0.612277    0.498835  \n",
              "min      0.000000    0.000000  \n",
              "25%      2.000000    0.000000  \n",
              "50%      2.000000    1.000000  \n",
              "75%      3.000000    1.000000  \n",
              "max      3.000000    1.000000  "
            ],
            "text/html": [
              "\n",
              "  <div id=\"df-26ba8e8b-6d5e-4f8f-8df5-de487b81cecc\">\n",
              "    <div class=\"colab-df-container\">\n",
              "      <div>\n",
              "<style scoped>\n",
              "    .dataframe tbody tr th:only-of-type {\n",
              "        vertical-align: middle;\n",
              "    }\n",
              "\n",
              "    .dataframe tbody tr th {\n",
              "        vertical-align: top;\n",
              "    }\n",
              "\n",
              "    .dataframe thead th {\n",
              "        text-align: right;\n",
              "    }\n",
              "</style>\n",
              "<table border=\"1\" class=\"dataframe\">\n",
              "  <thead>\n",
              "    <tr style=\"text-align: right;\">\n",
              "      <th></th>\n",
              "      <th>age</th>\n",
              "      <th>sex</th>\n",
              "      <th>cp</th>\n",
              "      <th>trestbps</th>\n",
              "      <th>chol</th>\n",
              "      <th>fbs</th>\n",
              "      <th>restecg</th>\n",
              "      <th>thalach</th>\n",
              "      <th>exang</th>\n",
              "      <th>oldpeak</th>\n",
              "      <th>slope</th>\n",
              "      <th>ca</th>\n",
              "      <th>thal</th>\n",
              "      <th>target</th>\n",
              "    </tr>\n",
              "  </thead>\n",
              "  <tbody>\n",
              "    <tr>\n",
              "      <th>count</th>\n",
              "      <td>303.000000</td>\n",
              "      <td>303.000000</td>\n",
              "      <td>303.000000</td>\n",
              "      <td>303.000000</td>\n",
              "      <td>303.000000</td>\n",
              "      <td>303.000000</td>\n",
              "      <td>303.000000</td>\n",
              "      <td>303.000000</td>\n",
              "      <td>303.000000</td>\n",
              "      <td>303.000000</td>\n",
              "      <td>303.000000</td>\n",
              "      <td>303.000000</td>\n",
              "      <td>303.000000</td>\n",
              "      <td>303.000000</td>\n",
              "    </tr>\n",
              "    <tr>\n",
              "      <th>mean</th>\n",
              "      <td>54.366337</td>\n",
              "      <td>0.683168</td>\n",
              "      <td>0.966997</td>\n",
              "      <td>131.623762</td>\n",
              "      <td>246.264026</td>\n",
              "      <td>0.148515</td>\n",
              "      <td>0.528053</td>\n",
              "      <td>149.646865</td>\n",
              "      <td>0.326733</td>\n",
              "      <td>1.039604</td>\n",
              "      <td>1.399340</td>\n",
              "      <td>0.729373</td>\n",
              "      <td>2.313531</td>\n",
              "      <td>0.544554</td>\n",
              "    </tr>\n",
              "    <tr>\n",
              "      <th>std</th>\n",
              "      <td>9.082101</td>\n",
              "      <td>0.466011</td>\n",
              "      <td>1.032052</td>\n",
              "      <td>17.538143</td>\n",
              "      <td>51.830751</td>\n",
              "      <td>0.356198</td>\n",
              "      <td>0.525860</td>\n",
              "      <td>22.905161</td>\n",
              "      <td>0.469794</td>\n",
              "      <td>1.161075</td>\n",
              "      <td>0.616226</td>\n",
              "      <td>1.022606</td>\n",
              "      <td>0.612277</td>\n",
              "      <td>0.498835</td>\n",
              "    </tr>\n",
              "    <tr>\n",
              "      <th>min</th>\n",
              "      <td>29.000000</td>\n",
              "      <td>0.000000</td>\n",
              "      <td>0.000000</td>\n",
              "      <td>94.000000</td>\n",
              "      <td>126.000000</td>\n",
              "      <td>0.000000</td>\n",
              "      <td>0.000000</td>\n",
              "      <td>71.000000</td>\n",
              "      <td>0.000000</td>\n",
              "      <td>0.000000</td>\n",
              "      <td>0.000000</td>\n",
              "      <td>0.000000</td>\n",
              "      <td>0.000000</td>\n",
              "      <td>0.000000</td>\n",
              "    </tr>\n",
              "    <tr>\n",
              "      <th>25%</th>\n",
              "      <td>47.500000</td>\n",
              "      <td>0.000000</td>\n",
              "      <td>0.000000</td>\n",
              "      <td>120.000000</td>\n",
              "      <td>211.000000</td>\n",
              "      <td>0.000000</td>\n",
              "      <td>0.000000</td>\n",
              "      <td>133.500000</td>\n",
              "      <td>0.000000</td>\n",
              "      <td>0.000000</td>\n",
              "      <td>1.000000</td>\n",
              "      <td>0.000000</td>\n",
              "      <td>2.000000</td>\n",
              "      <td>0.000000</td>\n",
              "    </tr>\n",
              "    <tr>\n",
              "      <th>50%</th>\n",
              "      <td>55.000000</td>\n",
              "      <td>1.000000</td>\n",
              "      <td>1.000000</td>\n",
              "      <td>130.000000</td>\n",
              "      <td>240.000000</td>\n",
              "      <td>0.000000</td>\n",
              "      <td>1.000000</td>\n",
              "      <td>153.000000</td>\n",
              "      <td>0.000000</td>\n",
              "      <td>0.800000</td>\n",
              "      <td>1.000000</td>\n",
              "      <td>0.000000</td>\n",
              "      <td>2.000000</td>\n",
              "      <td>1.000000</td>\n",
              "    </tr>\n",
              "    <tr>\n",
              "      <th>75%</th>\n",
              "      <td>61.000000</td>\n",
              "      <td>1.000000</td>\n",
              "      <td>2.000000</td>\n",
              "      <td>140.000000</td>\n",
              "      <td>274.500000</td>\n",
              "      <td>0.000000</td>\n",
              "      <td>1.000000</td>\n",
              "      <td>166.000000</td>\n",
              "      <td>1.000000</td>\n",
              "      <td>1.600000</td>\n",
              "      <td>2.000000</td>\n",
              "      <td>1.000000</td>\n",
              "      <td>3.000000</td>\n",
              "      <td>1.000000</td>\n",
              "    </tr>\n",
              "    <tr>\n",
              "      <th>max</th>\n",
              "      <td>77.000000</td>\n",
              "      <td>1.000000</td>\n",
              "      <td>3.000000</td>\n",
              "      <td>200.000000</td>\n",
              "      <td>564.000000</td>\n",
              "      <td>1.000000</td>\n",
              "      <td>2.000000</td>\n",
              "      <td>202.000000</td>\n",
              "      <td>1.000000</td>\n",
              "      <td>6.200000</td>\n",
              "      <td>2.000000</td>\n",
              "      <td>4.000000</td>\n",
              "      <td>3.000000</td>\n",
              "      <td>1.000000</td>\n",
              "    </tr>\n",
              "  </tbody>\n",
              "</table>\n",
              "</div>\n",
              "      <button class=\"colab-df-convert\" onclick=\"convertToInteractive('df-26ba8e8b-6d5e-4f8f-8df5-de487b81cecc')\"\n",
              "              title=\"Convert this dataframe to an interactive table.\"\n",
              "              style=\"display:none;\">\n",
              "        \n",
              "  <svg xmlns=\"http://www.w3.org/2000/svg\" height=\"24px\"viewBox=\"0 0 24 24\"\n",
              "       width=\"24px\">\n",
              "    <path d=\"M0 0h24v24H0V0z\" fill=\"none\"/>\n",
              "    <path d=\"M18.56 5.44l.94 2.06.94-2.06 2.06-.94-2.06-.94-.94-2.06-.94 2.06-2.06.94zm-11 1L8.5 8.5l.94-2.06 2.06-.94-2.06-.94L8.5 2.5l-.94 2.06-2.06.94zm10 10l.94 2.06.94-2.06 2.06-.94-2.06-.94-.94-2.06-.94 2.06-2.06.94z\"/><path d=\"M17.41 7.96l-1.37-1.37c-.4-.4-.92-.59-1.43-.59-.52 0-1.04.2-1.43.59L10.3 9.45l-7.72 7.72c-.78.78-.78 2.05 0 2.83L4 21.41c.39.39.9.59 1.41.59.51 0 1.02-.2 1.41-.59l7.78-7.78 2.81-2.81c.8-.78.8-2.07 0-2.86zM5.41 20L4 18.59l7.72-7.72 1.47 1.35L5.41 20z\"/>\n",
              "  </svg>\n",
              "      </button>\n",
              "      \n",
              "  <style>\n",
              "    .colab-df-container {\n",
              "      display:flex;\n",
              "      flex-wrap:wrap;\n",
              "      gap: 12px;\n",
              "    }\n",
              "\n",
              "    .colab-df-convert {\n",
              "      background-color: #E8F0FE;\n",
              "      border: none;\n",
              "      border-radius: 50%;\n",
              "      cursor: pointer;\n",
              "      display: none;\n",
              "      fill: #1967D2;\n",
              "      height: 32px;\n",
              "      padding: 0 0 0 0;\n",
              "      width: 32px;\n",
              "    }\n",
              "\n",
              "    .colab-df-convert:hover {\n",
              "      background-color: #E2EBFA;\n",
              "      box-shadow: 0px 1px 2px rgba(60, 64, 67, 0.3), 0px 1px 3px 1px rgba(60, 64, 67, 0.15);\n",
              "      fill: #174EA6;\n",
              "    }\n",
              "\n",
              "    [theme=dark] .colab-df-convert {\n",
              "      background-color: #3B4455;\n",
              "      fill: #D2E3FC;\n",
              "    }\n",
              "\n",
              "    [theme=dark] .colab-df-convert:hover {\n",
              "      background-color: #434B5C;\n",
              "      box-shadow: 0px 1px 3px 1px rgba(0, 0, 0, 0.15);\n",
              "      filter: drop-shadow(0px 1px 2px rgba(0, 0, 0, 0.3));\n",
              "      fill: #FFFFFF;\n",
              "    }\n",
              "  </style>\n",
              "\n",
              "      <script>\n",
              "        const buttonEl =\n",
              "          document.querySelector('#df-26ba8e8b-6d5e-4f8f-8df5-de487b81cecc button.colab-df-convert');\n",
              "        buttonEl.style.display =\n",
              "          google.colab.kernel.accessAllowed ? 'block' : 'none';\n",
              "\n",
              "        async function convertToInteractive(key) {\n",
              "          const element = document.querySelector('#df-26ba8e8b-6d5e-4f8f-8df5-de487b81cecc');\n",
              "          const dataTable =\n",
              "            await google.colab.kernel.invokeFunction('convertToInteractive',\n",
              "                                                     [key], {});\n",
              "          if (!dataTable) return;\n",
              "\n",
              "          const docLinkHtml = 'Like what you see? Visit the ' +\n",
              "            '<a target=\"_blank\" href=https://colab.research.google.com/notebooks/data_table.ipynb>data table notebook</a>'\n",
              "            + ' to learn more about interactive tables.';\n",
              "          element.innerHTML = '';\n",
              "          dataTable['output_type'] = 'display_data';\n",
              "          await google.colab.output.renderOutput(dataTable, element);\n",
              "          const docLink = document.createElement('div');\n",
              "          docLink.innerHTML = docLinkHtml;\n",
              "          element.appendChild(docLink);\n",
              "        }\n",
              "      </script>\n",
              "    </div>\n",
              "  </div>\n",
              "  "
            ]
          },
          "metadata": {},
          "execution_count": 95
        }
      ]
    },
    {
      "cell_type": "code",
      "source": [
        "df.corr()[\"target\"]"
      ],
      "metadata": {
        "colab": {
          "base_uri": "https://localhost:8080/"
        },
        "id": "xynN9aJHbjL_",
        "outputId": "5a8d4c10-094b-4b53-a443-c9cf170d39ee"
      },
      "execution_count": null,
      "outputs": [
        {
          "output_type": "execute_result",
          "data": {
            "text/plain": [
              "age        -0.225439\n",
              "sex        -0.280937\n",
              "cp          0.433798\n",
              "trestbps   -0.144931\n",
              "chol       -0.085239\n",
              "fbs        -0.028046\n",
              "restecg     0.137230\n",
              "thalach     0.421741\n",
              "exang      -0.436757\n",
              "oldpeak    -0.430696\n",
              "slope       0.345877\n",
              "ca         -0.391724\n",
              "thal       -0.344029\n",
              "target      1.000000\n",
              "Name: target, dtype: float64"
            ]
          },
          "metadata": {},
          "execution_count": 94
        }
      ]
    },
    {
      "cell_type": "code",
      "execution_count": null,
      "metadata": {
        "colab": {
          "base_uri": "https://localhost:8080/"
        },
        "id": "gIexy-j-eAwp",
        "outputId": "15e2e581-6838-40b1-d90b-66313ac08bd2"
      },
      "outputs": [
        {
          "output_type": "stream",
          "name": "stdout",
          "text": [
            "imblearn version:  0.8.1\n",
            "Shape before SMOTE:  (212, 13) (212,) \n",
            "\n",
            "Shape after SMOTE:  (230, 13) (230,) \n",
            "\n"
          ]
        }
      ],
      "source": [
        "\n",
        "import imblearn\n",
        "print(\"imblearn version: \", imblearn.__version__)\n",
        "\n",
        "from imblearn.over_sampling import SMOTE\n",
        "\n",
        "sm = SMOTE(random_state=12346)\n",
        "X_train_SMOTE, y_train_SMOTE = sm.fit_resample(X_train, y_train)\n",
        "\n",
        "print(\"Shape before SMOTE: \", X_train.shape, y_train.shape, \"\\n\")\n",
        "print(\"Shape after SMOTE: \", X_train_SMOTE.shape, y_train_SMOTE.shape, \"\\n\")"
      ]
    },
    {
      "cell_type": "code",
      "execution_count": null,
      "metadata": {
        "id": "KCl5_g-mgu2U"
      },
      "outputs": [],
      "source": [
        "# Standardization z-score  (https://scikit-learn.org/stable/modules/generated/sklearn.preprocessing.StandardScaler.html#sklearn.preprocessing.StandardScaler)\n",
        "# from sklearn.preprocessing import StandardScaler\n",
        "stdsc = StandardScaler()  \n",
        "X_train_SMOTE_std = stdsc.fit_transform(X_train_SMOTE)\n",
        "X_test_std = stdsc.transform(X_test)"
      ]
    },
    {
      "cell_type": "code",
      "execution_count": null,
      "metadata": {
        "colab": {
          "base_uri": "https://localhost:8080/"
        },
        "id": "bTflMtELuFNC",
        "outputId": "a2e159e9-2523-41de-8c4d-51f9b31c2280"
      },
      "outputs": [
        {
          "output_type": "stream",
          "name": "stdout",
          "text": [
            "Important Features\n",
            " Index(['age', 'cp', 'thalach', 'oldpeak', 'ca'], dtype='object')\n",
            "\n",
            " Accuracy:  0.7912087912087912\n"
          ]
        }
      ],
      "source": [
        "from sklearn.feature_selection import RFE\n",
        "rfe = RFE(estimator=RandomForestClassifier(), n_features_to_select=5)   \n",
        "_ = rfe.fit(X_train_SMOTE_std,y_train_SMOTE)\n",
        "print('Important Features\\n',X.columns[rfe.support_])\n",
        "rf = RandomForestClassifier()\n",
        "_ = rf.fit(rfe.transform(X_train_SMOTE_std), y_train_SMOTE)\n",
        "print(\"\\n Accuracy: \",rf.score(rfe.transform(X_test_std), y_test))"
      ]
    },
    {
      "cell_type": "code",
      "execution_count": null,
      "metadata": {
        "colab": {
          "base_uri": "https://localhost:8080/"
        },
        "id": "k-JiYSVilmfh",
        "outputId": "ad878cb3-b497-491a-f788-33e873c7adae"
      },
      "outputs": [
        {
          "output_type": "execute_result",
          "data": {
            "text/plain": [
              "(303, 5)"
            ]
          },
          "metadata": {},
          "execution_count": 28
        }
      ],
      "source": [
        "best_predictors = rfe.support_             \n",
        "new_features = []                          \n",
        "for feature, predictor in list(zip(X, best_predictors)):\n",
        "    if predictor == True:\n",
        "        new_features.append(feature)\n",
        "\n",
        "X = df[new_features]\n",
        "X.shape"
      ]
    },
    {
      "cell_type": "code",
      "execution_count": null,
      "metadata": {
        "colab": {
          "base_uri": "https://localhost:8080/"
        },
        "id": "poTLZnYZNeyl",
        "outputId": "6aee80fb-d4d0-40d4-97f7-6d5133704d32"
      },
      "outputs": [
        {
          "output_type": "stream",
          "name": "stdout",
          "text": [
            "CLASSIFIER:  Perceptron \n",
            "\n",
            "For fold 1:\n",
            "Accuracy: 0.6557377049180327\n",
            "Balanced Accuracy: 0.6574675324675325\n",
            "AUC: 0.6574675324675324\n",
            "For fold 2:\n",
            "Accuracy: 0.7049180327868853\n",
            "Balanced Accuracy: 0.6866883116883117\n",
            "AUC: 0.6866883116883118\n",
            "For fold 3:\n",
            "Accuracy: 0.7540983606557377\n",
            "Balanced Accuracy: 0.7402597402597402\n",
            "AUC: 0.7402597402597402\n",
            "For fold 4:\n",
            "Accuracy: 0.8\n",
            "Balanced Accuracy: 0.7946127946127945\n",
            "AUC: 0.7946127946127945\n",
            "For fold 5:\n",
            "Accuracy: 0.75\n",
            "Balanced Accuracy: 0.7424242424242424\n",
            "AUC: 0.7424242424242425\n",
            "Average accuracy: 0.733 Average balanced accuracy: 0.724 Average AUC: 0.724\n",
            "\n",
            "\n",
            "CLASSIFIER:  Logistic Regression \n",
            "\n",
            "For fold 1:\n",
            "Accuracy: 0.819672131147541\n",
            "Balanced Accuracy: 0.8198051948051948\n",
            "AUC: 0.8198051948051949\n",
            "For fold 2:\n",
            "Accuracy: 0.7868852459016393\n",
            "Balanced Accuracy: 0.7786796536796536\n",
            "AUC: 0.7786796536796537\n",
            "For fold 3:\n",
            "Accuracy: 0.819672131147541\n",
            "Balanced Accuracy: 0.808982683982684\n",
            "AUC: 0.808982683982684\n",
            "For fold 4:\n",
            "Accuracy: 0.8666666666666667\n",
            "Balanced Accuracy: 0.8653198653198653\n",
            "AUC: 0.8653198653198654\n",
            "For fold 5:\n",
            "Accuracy: 0.75\n",
            "Balanced Accuracy: 0.7525252525252526\n",
            "AUC: 0.7525252525252525\n",
            "Average accuracy: 0.809 Average balanced accuracy: 0.805 Average AUC: 0.805\n",
            "\n",
            "\n",
            "CLASSIFIER:  SVM (RBF kernel) \n",
            "\n",
            "For fold 1:\n",
            "Accuracy: 0.819672131147541\n",
            "Balanced Accuracy: 0.8170995670995671\n",
            "AUC: 0.8170995670995672\n",
            "For fold 2:\n",
            "Accuracy: 0.7704918032786885\n",
            "Balanced Accuracy: 0.7608225108225108\n",
            "AUC: 0.7608225108225107\n",
            "For fold 3:\n",
            "Accuracy: 0.7868852459016393\n",
            "Balanced Accuracy: 0.7813852813852814\n",
            "AUC: 0.7813852813852814\n",
            "For fold 4:\n",
            "Accuracy: 0.85\n",
            "Balanced Accuracy: 0.8468013468013468\n",
            "AUC: 0.8468013468013469\n",
            "For fold 5:\n",
            "Accuracy: 0.75\n",
            "Balanced Accuracy: 0.7424242424242424\n",
            "AUC: 0.7424242424242425\n",
            "Average accuracy: 0.795 Average balanced accuracy: 0.790 Average AUC: 0.790\n",
            "\n",
            "\n",
            "CLASSIFIER:  Decision Tree \n",
            "\n",
            "For fold 1:\n",
            "Accuracy: 0.8032786885245902\n",
            "Balanced Accuracy: 0.8046536796536796\n",
            "AUC: 0.8046536796536796\n",
            "For fold 2:\n",
            "Accuracy: 0.7377049180327869\n",
            "Balanced Accuracy: 0.7332251082251082\n",
            "AUC: 0.7332251082251082\n",
            "For fold 3:\n",
            "Accuracy: 0.7868852459016393\n",
            "Balanced Accuracy: 0.7786796536796536\n",
            "AUC: 0.7786796536796537\n",
            "For fold 4:\n",
            "Accuracy: 0.8\n",
            "Balanced Accuracy: 0.8047138047138047\n",
            "AUC: 0.8047138047138047\n",
            "For fold 5:\n",
            "Accuracy: 0.7833333333333333\n",
            "Balanced Accuracy: 0.7794612794612794\n",
            "AUC: 0.7794612794612795\n",
            "Average accuracy: 0.782 Average balanced accuracy: 0.780 Average AUC: 0.780\n",
            "\n",
            "\n",
            "CLASSIFIER:  Naive Bayes \n",
            "\n",
            "For fold 1:\n",
            "Accuracy: 0.819672131147541\n",
            "Balanced Accuracy: 0.8225108225108224\n",
            "AUC: 0.8225108225108225\n",
            "For fold 2:\n",
            "Accuracy: 0.8032786885245902\n",
            "Balanced Accuracy: 0.7965367965367965\n",
            "AUC: 0.7965367965367965\n",
            "For fold 3:\n",
            "Accuracy: 0.8032786885245902\n",
            "Balanced Accuracy: 0.7938311688311688\n",
            "AUC: 0.7938311688311689\n",
            "For fold 4:\n",
            "Accuracy: 0.8166666666666667\n",
            "Balanced Accuracy: 0.8131313131313131\n",
            "AUC: 0.8131313131313133\n",
            "For fold 5:\n",
            "Accuracy: 0.7833333333333333\n",
            "Balanced Accuracy: 0.7794612794612794\n",
            "AUC: 0.7794612794612795\n",
            "Average accuracy: 0.805 Average balanced accuracy: 0.801 Average AUC: 0.801\n",
            "\n",
            "\n",
            "CLASSIFIER:  k Nearest Neighbors \n",
            "\n",
            "For fold 1:\n",
            "Accuracy: 0.819672131147541\n",
            "Balanced Accuracy: 0.8143939393939394\n",
            "AUC: 0.8143939393939394\n",
            "For fold 2:\n",
            "Accuracy: 0.7377049180327869\n",
            "Balanced Accuracy: 0.7332251082251082\n",
            "AUC: 0.7332251082251082\n",
            "For fold 3:\n",
            "Accuracy: 0.8524590163934426\n",
            "Balanced Accuracy: 0.8446969696969697\n",
            "AUC: 0.8446969696969697\n",
            "For fold 4:\n",
            "Accuracy: 0.8\n",
            "Balanced Accuracy: 0.797979797979798\n",
            "AUC: 0.7979797979797981\n",
            "For fold 5:\n",
            "Accuracy: 0.7333333333333333\n",
            "Balanced Accuracy: 0.734006734006734\n",
            "AUC: 0.734006734006734\n",
            "Average accuracy: 0.789 Average balanced accuracy: 0.785 Average AUC: 0.785\n",
            "\n",
            "\n",
            "CLASSIFIER:  MLP \n",
            "\n",
            "For fold 1:\n",
            "Accuracy: 0.819672131147541\n",
            "Balanced Accuracy: 0.8198051948051948\n",
            "AUC: 0.8198051948051949\n",
            "For fold 2:\n",
            "Accuracy: 0.7704918032786885\n",
            "Balanced Accuracy: 0.7608225108225108\n",
            "AUC: 0.7608225108225107\n",
            "For fold 3:\n",
            "Accuracy: 0.8360655737704918\n",
            "Balanced Accuracy: 0.8241341991341992\n",
            "AUC: 0.8241341991341993\n",
            "For fold 4:\n",
            "Accuracy: 0.8833333333333333\n",
            "Balanced Accuracy: 0.8838383838383839\n",
            "AUC: 0.8838383838383839\n",
            "For fold 5:\n",
            "Accuracy: 0.7666666666666667\n",
            "Balanced Accuracy: 0.771043771043771\n",
            "AUC: 0.7710437710437711\n",
            "Average accuracy: 0.815 Average balanced accuracy: 0.812 Average AUC: 0.812\n",
            "\n",
            "\n",
            "CLASSIFIER:  Random Forest \n",
            "\n",
            "For fold 1:\n",
            "Accuracy: 0.7868852459016393\n",
            "Balanced Accuracy: 0.7840909090909092\n",
            "AUC: 0.7840909090909092\n",
            "For fold 2:\n",
            "Accuracy: 0.7377049180327869\n",
            "Balanced Accuracy: 0.7305194805194806\n",
            "AUC: 0.7305194805194806\n",
            "For fold 3:\n",
            "Accuracy: 0.8032786885245902\n",
            "Balanced Accuracy: 0.7938311688311688\n",
            "AUC: 0.7938311688311689\n",
            "For fold 4:\n",
            "Accuracy: 0.85\n",
            "Balanced Accuracy: 0.8468013468013468\n",
            "AUC: 0.8468013468013469\n",
            "For fold 5:\n",
            "Accuracy: 0.8\n",
            "Balanced Accuracy: 0.797979797979798\n",
            "AUC: 0.7979797979797981\n",
            "Average accuracy: 0.796 Average balanced accuracy: 0.791 Average AUC: 0.791\n",
            "\n",
            "\n",
            "CLASSIFIER:  XG Boost \n",
            "\n",
            "For fold 1:\n",
            "Accuracy: 0.7704918032786885\n",
            "Balanced Accuracy: 0.7689393939393939\n",
            "AUC: 0.7689393939393939\n",
            "For fold 2:\n",
            "Accuracy: 0.7213114754098361\n",
            "Balanced Accuracy: 0.7180735930735931\n",
            "AUC: 0.7180735930735931\n",
            "For fold 3:\n",
            "Accuracy: 0.819672131147541\n",
            "Balanced Accuracy: 0.808982683982684\n",
            "AUC: 0.808982683982684\n",
            "For fold 4:\n",
            "Accuracy: 0.8333333333333334\n",
            "Balanced Accuracy: 0.835016835016835\n",
            "AUC: 0.835016835016835\n",
            "For fold 5:\n",
            "Accuracy: 0.7833333333333333\n",
            "Balanced Accuracy: 0.7794612794612794\n",
            "AUC: 0.7794612794612795\n",
            "Average accuracy: 0.786 Average balanced accuracy: 0.782 Average AUC: 0.782\n",
            "\n",
            "\n",
            "CLASSIFIER:  Light GBM \n",
            "\n",
            "For fold 1:\n",
            "Accuracy: 0.7540983606557377\n",
            "Balanced Accuracy: 0.7537878787878788\n",
            "AUC: 0.7537878787878788\n",
            "For fold 2:\n",
            "Accuracy: 0.8032786885245902\n",
            "Balanced Accuracy: 0.7965367965367965\n",
            "AUC: 0.7965367965367965\n",
            "For fold 3:\n",
            "Accuracy: 0.819672131147541\n",
            "Balanced Accuracy: 0.8143939393939394\n",
            "AUC: 0.8143939393939394\n",
            "For fold 4:\n",
            "Accuracy: 0.8166666666666667\n",
            "Balanced Accuracy: 0.8164983164983165\n",
            "AUC: 0.8164983164983167\n",
            "For fold 5:\n",
            "Accuracy: 0.75\n",
            "Balanced Accuracy: 0.7491582491582491\n",
            "AUC: 0.7491582491582491\n",
            "Average accuracy: 0.789 Average balanced accuracy: 0.786 Average AUC: 0.786\n",
            "\n",
            "\n"
          ]
        }
      ],
      "source": [
        "\n",
        "names = [\"Perceptron\", \"Logistic Regression\", \"SVM (RBF kernel)\", \"Decision Tree\", \"Naive Bayes\", \"k Nearest Neighbors\", \"MLP\", \"Random Forest\", \"XG Boost\", \"Light GBM\"]\n",
        "classifiers = [\n",
        "    Perceptron(random_state=1),    \n",
        "    LogisticRegression(),   \n",
        "    SVC(kernel=\"rbf\", C=1),\n",
        "    DecisionTreeClassifier(max_depth=5),\n",
        "    GaussianNB(),\n",
        "    KNeighborsClassifier(3),\n",
        "    MLPClassifier(hidden_layer_sizes=(50,50),alpha=1, max_iter=1000),\n",
        "    RandomForestClassifier(max_depth=5, n_estimators=10, max_features=1),\n",
        "    XGBClassifier(random_state=0, n_jobs=-1, learning_rate=0.1, n_estimators=100, max_depth=3),\n",
        "    LGBMClassifier(boosting_type='gbdt', objective='binary', num_leaves=50, learning_rate=0.1, bagging_fraction=0.9, feature_fraction=0.9, reg_lambda=0.2)]\n",
        "\n",
        "no_folds = 5 # number of folds desired for cross validation\n",
        "kf = StratifiedKFold(n_splits=no_folds, shuffle=True, random_state=12345)\n",
        "for name, clf in zip(names, classifiers):\n",
        "  print('CLASSIFIER: ',name,'\\n')\n",
        "  mean_accuracy = 0.0\n",
        "  mean_balanced_accuracy = 0.0\n",
        "  mean_auc = 0.0\n",
        "  for fold, (train_index, test_index) in enumerate(kf.split(X,y),1):\n",
        "    X_train, X_test = X.iloc[list(train_index)], X.iloc[list(test_index)]\n",
        "    y_train, y_test = y.iloc[list(train_index)], y.iloc[list(test_index)] \n",
        "    sm = SMOTE()\n",
        "    X_train_SMOTE, y_train_SMOTE = sm.fit_resample(X_train, y_train)\n",
        "    stdsc = StandardScaler()  \n",
        "    X_train_SMOTE_std = stdsc.fit_transform(X_train_SMOTE)   \n",
        "    X_test_std = stdsc.transform(X_test)   \n",
        "    clf.fit(X_train_SMOTE_std, y_train_SMOTE) \n",
        "    y_pred = clf.predict(X_test_std)\n",
        "    print(f'For fold {fold}:')\n",
        "    print(f'Accuracy: {clf.score(X_test_std, y_test)}')\n",
        "    print(f'Balanced Accuracy: {balanced_accuracy_score(y_test, y_pred)}')\n",
        "    print(f'AUC: {roc_auc_score(y_test, y_pred)}')\n",
        "    mean_accuracy = mean_accuracy + clf.score(X_test_std, y_test)\n",
        "    mean_balanced_accuracy = mean_balanced_accuracy + balanced_accuracy_score(y_test, y_pred)\n",
        "    mean_auc = mean_auc + roc_auc_score(y_test, y_pred)\n",
        "  mean_accuracy = mean_accuracy / no_folds\n",
        "  mean_balanced_accuracy = mean_balanced_accuracy / no_folds\n",
        "  mean_auc = mean_auc / no_folds\n",
        "  print('Average accuracy: %.3f Average balanced accuracy: %.3f Average AUC: %.3f\\n\\n' % (mean_accuracy, mean_balanced_accuracy, mean_auc))"
      ]
    },
    {
      "cell_type": "code",
      "source": [
        "model = imbpipeline([\n",
        "        ('sample', SMOTE()),\n",
        "        ('std', StandardScaler()),('clf',MLPClassifier(hidden_layer_sizes=(50,50),alpha=1, max_iter=1000))])\n",
        "parameter_grid = {\n",
        "    'hidden_layer_sizes': [(10,30,10),(20,)],\n",
        "    'activation': ['tanh', 'relu'],\n",
        "    'solver': ['sgd', 'adam'],\n",
        "    'alpha': [0.0001, 0.05],\n",
        "    'learning_rate': ['constant','adaptive'],\n",
        "}\n",
        "from sklearn.model_selection import GridSearchCV\n",
        "grid = GridSearchCV(estimator=model, param_grid=param_grid, cv = 5, scoring = 'average_precision')\n",
        "clf.fit(X, y)"
      ],
      "metadata": {
        "colab": {
          "base_uri": "https://localhost:8080/"
        },
        "id": "eHeKh3rZIsFK",
        "outputId": "79b2294c-2bdf-440e-9813-602a10e392cd"
      },
      "execution_count": null,
      "outputs": [
        {
          "output_type": "stream",
          "name": "stderr",
          "text": [
            "/usr/local/lib/python3.7/dist-packages/sklearn/neural_network/_multilayer_perceptron.py:696: ConvergenceWarning: Stochastic Optimizer: Maximum iterations (100) reached and the optimization hasn't converged yet.\n",
            "  ConvergenceWarning,\n"
          ]
        },
        {
          "output_type": "execute_result",
          "data": {
            "text/plain": [
              "GridSearchCV(cv=5, estimator=MLPClassifier(max_iter=100), n_jobs=-1,\n",
              "             param_grid={'activation': ['tanh', 'relu'],\n",
              "                         'alpha': [0.0001, 0.05],\n",
              "                         'hidden_layer_sizes': [(10, 30, 10), (20,)],\n",
              "                         'learning_rate': ['constant', 'adaptive'],\n",
              "                         'solver': ['sgd', 'adam']})"
            ]
          },
          "metadata": {},
          "execution_count": 62
        }
      ]
    },
    {
      "cell_type": "code",
      "source": [
        "cv = RepeatedStratifiedKFold(n_splits=10, n_repeats=3, random_state=1)\n",
        "scores = cross_val_score(model, X, y, scoring='accuracy', cv=cv, n_jobs=-1)\n",
        "print('Mean accuracy: %.3f' % np.mean(scores))\n",
        "scores = cross_val_score(model, X, y, scoring='roc_auc', cv=cv, n_jobs=-1)\n",
        "print('Mean ROC AUC: %.3f' % np.mean(scores))"
      ],
      "metadata": {
        "colab": {
          "base_uri": "https://localhost:8080/"
        },
        "id": "gXrms7Zwwrhh",
        "outputId": "e2cd05e0-1cfd-4c6d-887e-28e7ec7740f7"
      },
      "execution_count": null,
      "outputs": [
        {
          "output_type": "stream",
          "name": "stdout",
          "text": [
            "Mean accuracy: 0.819\n",
            "Mean ROC AUC: 0.870\n"
          ]
        }
      ]
    },
    {
      "cell_type": "code",
      "source": [
        "model.fit(X,y)\n",
        "y_test = model.predict(X_test)\n",
        "print(confusion_matrix(y_test, y_pred, labels=[0,1]))\n",
        "print(\"Accuracy = \",accuracy_score(y_test, y_pred))\n",
        "print(\"Recall = \",recall_score(y_test, y_pred))"
      ],
      "metadata": {
        "colab": {
          "base_uri": "https://localhost:8080/"
        },
        "outputId": "fc26d851-950f-42a8-b99c-ff28765fe11f",
        "id": "oryrdgbqSt0T"
      },
      "execution_count": null,
      "outputs": [
        {
          "output_type": "stream",
          "name": "stdout",
          "text": [
            "[[25  3]\n",
            " [ 3 29]]\n",
            "Accuracy =  0.9\n",
            "Recall =  0.90625\n"
          ]
        }
      ]
    },
    {
      "cell_type": "code",
      "source": [
        "model1 = imbpipeline([\n",
        "        ('sample', SMOTE()),\n",
        "        ('std', StandardScaler()),('clf',LogisticRegression())])\n",
        "param_grid1 = {\"C\":np.logspace(-3,3,7), \"penalty\":[\"l2\"]}\n",
        "from sklearn.model_selection import GridSearchCV\n",
        "grid = GridSearchCV(estimator=model1, param_grid=param_grid1, cv = 5, scoring = 'average_precision')\n",
        "clf.fit(X, y)\n"
      ],
      "metadata": {
        "colab": {
          "base_uri": "https://localhost:8080/"
        },
        "outputId": "a6db94f8-8685-467f-c512-27accef1fefb",
        "id": "Ywtii4lyPZ4R"
      },
      "execution_count": null,
      "outputs": [
        {
          "output_type": "stream",
          "name": "stderr",
          "text": [
            "/usr/local/lib/python3.7/dist-packages/sklearn/neural_network/_multilayer_perceptron.py:696: ConvergenceWarning: Stochastic Optimizer: Maximum iterations (100) reached and the optimization hasn't converged yet.\n",
            "  ConvergenceWarning,\n"
          ]
        },
        {
          "output_type": "execute_result",
          "data": {
            "text/plain": [
              "GridSearchCV(cv=5, estimator=MLPClassifier(max_iter=100), n_jobs=-1,\n",
              "             param_grid={'activation': ['tanh', 'relu'],\n",
              "                         'alpha': [0.0001, 0.05],\n",
              "                         'hidden_layer_sizes': [(10, 30, 10), (20,)],\n",
              "                         'learning_rate': ['constant', 'adaptive'],\n",
              "                         'solver': ['sgd', 'adam']})"
            ]
          },
          "metadata": {},
          "execution_count": 67
        }
      ]
    },
    {
      "cell_type": "code",
      "source": [
        "cv = RepeatedStratifiedKFold(n_splits=10, n_repeats=3, random_state=1)\n",
        "scores = cross_val_score(model1, X, y, scoring='accuracy', cv=cv, n_jobs=-1)\n",
        "print('Mean accuracy: %.3f' % np.mean(scores))\n",
        "scores = cross_val_score(model1, X, y, scoring='roc_auc', cv=cv, n_jobs=-1)\n",
        "print('Mean ROC AUC: %.3f' % np.mean(scores))"
      ],
      "metadata": {
        "colab": {
          "base_uri": "https://localhost:8080/"
        },
        "outputId": "509e111c-d1a8-46a1-a595-2253d21a7e8b",
        "id": "d0uZgTDYM0_V"
      },
      "execution_count": null,
      "outputs": [
        {
          "output_type": "stream",
          "name": "stdout",
          "text": [
            "Mean accuracy: 0.810\n",
            "Mean ROC AUC: 0.870\n"
          ]
        }
      ]
    },
    {
      "cell_type": "code",
      "source": [
        "model1.fit(X,y)\n",
        "y_test = model1.predict(X_test)\n",
        "print(confusion_matrix(y_test, y_pred, labels=[0,1]))\n",
        "print(\"Accuracy = \",accuracy_score(y_test, y_pred))\n",
        "print(\"Recall = \",recall_score(y_test, y_pred))"
      ],
      "metadata": {
        "colab": {
          "base_uri": "https://localhost:8080/"
        },
        "id": "hbLpBZHuy-bv",
        "outputId": "61355542-554d-489b-a12a-04829132e9c8"
      },
      "execution_count": null,
      "outputs": [
        {
          "output_type": "stream",
          "name": "stdout",
          "text": [
            "[[25  4]\n",
            " [ 3 28]]\n",
            "Accuracy =  0.8833333333333333\n",
            "Recall =  0.9032258064516129\n"
          ]
        }
      ]
    },
    {
      "cell_type": "code",
      "source": [
        "\n",
        "train_sizes, train_scores, test_scores = learning_curve(estimator=model1,\n",
        "                               X=X_train,\n",
        "                               y=y_train,\n",
        "                               train_sizes=np.linspace(0.5, 1.0, 5),\n",
        "                               cv=10,\n",
        "                               n_jobs=1)\n",
        "\n",
        "train_mean = np.mean(train_scores, axis=1)\n",
        "train_std = np.std(train_scores, axis=1)\n",
        "test_mean = np.mean(test_scores, axis=1)\n",
        "test_std = np.std(test_scores, axis=1)\n",
        "\n",
        "\n",
        "print('Test Mean: ',test_mean)\n",
        "plt.plot(train_sizes, train_mean,\n",
        "         color='blue', marker='o',\n",
        "         markersize=5, label='training accuracy')\n",
        "\n",
        "plt.fill_between(train_sizes,\n",
        "                 train_mean + train_std,\n",
        "                 train_mean - train_std,\n",
        "                 alpha=0.15, color='blue')\n",
        "\n",
        "plt.plot(train_sizes, test_mean,\n",
        "         color='green', linestyle='--',\n",
        "         marker='s', markersize=5,\n",
        "         label='validation accuracy')\n",
        "\n",
        "plt.fill_between(train_sizes,\n",
        "                 test_mean + test_std,\n",
        "                 test_mean - test_std,\n",
        "                 alpha=0.15, color='green')\n",
        "\n",
        "plt.grid()\n",
        "plt.xlabel('Number of training samples')\n",
        "plt.ylabel('Accuracy')\n",
        "plt.legend(loc='lower right')\n",
        "plt.ylim([0.5, 1.05])\n",
        "plt.tight_layout()\n",
        "plt.title('Learning Curve')\n",
        "# plt.savefig('./figures/learning_curve.png', dpi=300)\n",
        "plt.show()"
      ],
      "metadata": {
        "colab": {
          "base_uri": "https://localhost:8080/",
          "height": 330
        },
        "id": "-p9sMkgOrWk0",
        "outputId": "c91c1968-f5e0-414b-e519-8bf0284c1e8e"
      },
      "execution_count": null,
      "outputs": [
        {
          "output_type": "stream",
          "name": "stdout",
          "text": [
            "Test Mean:  [       nan 0.7695     0.80233333 0.82283333 0.81866667]\n"
          ]
        },
        {
          "output_type": "display_data",
          "data": {
            "text/plain": [
              "<Figure size 432x288 with 1 Axes>"
            ],
            "image/png": "[encoded data removed]"
          },
          "metadata": {}
        }
      ]
    },
    {
      "cell_type": "code",
      "source": [
        "\n",
        "train_sizes, train_scores, test_scores = learning_curve(estimator=model,\n",
        "                               X=X_train,\n",
        "                               y=y_train,\n",
        "                               train_sizes=np.linspace(0.5, 1.0, 5),\n",
        "                               cv=10,\n",
        "                               n_jobs=1)\n",
        "\n",
        "train_mean = np.mean(train_scores, axis=1)\n",
        "train_std = np.std(train_scores, axis=1)\n",
        "test_mean = np.mean(test_scores, axis=1)\n",
        "test_std = np.std(test_scores, axis=1)\n",
        "\n",
        "\n",
        "print('Test Mean: ',test_mean)\n",
        "plt.plot(train_sizes, train_mean,\n",
        "         color='blue', marker='o',\n",
        "         markersize=5, label='training accuracy')\n",
        "\n",
        "plt.fill_between(train_sizes,\n",
        "                 train_mean + train_std,\n",
        "                 train_mean - train_std,\n",
        "                 alpha=0.15, color='blue')\n",
        "\n",
        "plt.plot(train_sizes, test_mean,\n",
        "         color='green', linestyle='--',\n",
        "         marker='s', markersize=5,\n",
        "         label='validation accuracy')\n",
        "\n",
        "plt.fill_between(train_sizes,\n",
        "                 test_mean + test_std,\n",
        "                 test_mean - test_std,\n",
        "                 alpha=0.15, color='green')\n",
        "\n",
        "plt.grid()\n",
        "plt.xlabel('Number of training samples')\n",
        "plt.ylabel('Accuracy')\n",
        "plt.legend(loc='lower right')\n",
        "plt.ylim([0.5, 1.05])\n",
        "plt.tight_layout()\n",
        "plt.title('Learning Curve')\n",
        "# plt.savefig('./figures/learning_curve.png', dpi=300)\n",
        "plt.show()"
      ],
      "metadata": {
        "colab": {
          "base_uri": "https://localhost:8080/",
          "height": 330
        },
        "outputId": "b05c4413-9e64-41d0-b6a6-e826db25e103",
        "id": "F3g877NPTt5m"
      },
      "execution_count": null,
      "outputs": [
        {
          "output_type": "stream",
          "name": "stdout",
          "text": [
            "Test Mean:  [       nan 0.7985     0.79833333 0.823      0.823     ]\n"
          ]
        },
        {
          "output_type": "display_data",
          "data": {
            "text/plain": [
              "<Figure size 432x288 with 1 Axes>"
            ],
            "image/png": "[encoded data removed]"
          },
          "metadata": {}
        }
      ]
    }
  ]
}