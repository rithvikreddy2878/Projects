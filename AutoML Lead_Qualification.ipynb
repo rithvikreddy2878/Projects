{
  "cells": [
    {
      "cell_type": "markdown",
      "metadata": {
        "id": "W-b5eW3mtDAb"
      },
      "source": [
        "#**Lead Qualification Dataset(AutoML)**\n",
        "\n",
        "The data associated with this notebok can de downloaded [here](https://drive.google.com/file/d/1AK2zWojZWFa1xZqLOQ3VRdzjX0kEDo5H/view?usp=sharing)"
      ]
    },
    {
      "cell_type": "markdown",
      "metadata": {
        "id": "znX-jaP-Grxx"
      },
      "source": [
        "#**Table of Contents**\n",
        "* Business  Problem\n",
        "* Executive Summary (BLUF)\n",
        "* READ FIRST!!\n",
        "* Libraries\n",
        "* Data\n",
        "Preprocessing\n",
        "* Auto-Skleartn\n",
        "* TPOT\n",
        "* Conclusions\n"
      ]
    },
    {
      "cell_type": "markdown",
      "metadata": {
        "id": "YI_1ErhNz1M4"
      },
      "source": [
        "#**Executive Summary (BLUF)**\n",
        "\n",
        "Auto-Sklearn and TPOT are probably better than the XGBoot Classifier that we developed in the M4 notebook. Auto-Sklearn appears to have the edge over TPOT, but there's not much in it. The Auto-Sklearn pipeline has an AUC of around 0.92 and an accuracy of around 0.92."
      ]
    },
    {
      "cell_type": "markdown",
      "metadata": {
        "id": "WfpeMTKv1zYR"
      },
      "source": [
        "#**READ FIRST!!**\n",
        "Run the following code block. It may fail!\n",
        "Then run \"RESTART and RUN ALL\" from the Runtime menu!!!\n",
        "This is needed to get all the required versions of all packages to be correctly installed."
      ]
    },
    {
      "cell_type": "code",
      "execution_count": null,
      "metadata": {
        "colab": {
          "base_uri": "https://localhost:8080/"
        },
        "id": "13ggH-9I162j",
        "outputId": "a5e1388e-0d04-4e96-d6fa-38e6c9a0dff8"
      },
      "outputs": [
        {
          "name": "stdout",
          "output_type": "stream",
          "text": [
            "\r0% [Working]\r            \rGet:1 http://security.ubuntu.com/ubuntu bionic-security InRelease [88.7 kB]\n",
            "\r0% [Connecting to archive.ubuntu.com (185.125.190.36)] [1 InRelease 14.2 kB/88.\r                                                                               \rHit:2 https://developer.download.nvidia.com/compute/cuda/repos/ubuntu1804/x86_64  InRelease\n",
            "\r0% [Waiting for headers] [1 InRelease 43.1 kB/88.7 kB 49%] [Connected to cloud.\r0% [2 InRelease gpgv 1,581 B] [Waiting for headers] [1 InRelease 43.1 kB/88.7 k\r                                                                               \rHit:3 https://cloud.r-project.org/bin/linux/ubuntu bionic-cran40/ InRelease\n",
            "\r0% [2 InRelease gpgv 1,581 B] [Waiting for headers] [1 InRelease 57.6 kB/88.7 k\r0% [2 InRelease gpgv 1,581 B] [Waiting for headers] [Connecting to ppa.launchpa\r                                                                               \rIgn:4 https://developer.download.nvidia.com/compute/machine-learning/repos/ubuntu1804/x86_64  InRelease\n",
            "Hit:5 https://developer.download.nvidia.com/compute/machine-learning/repos/ubuntu1804/x86_64  Release\n",
            "Hit:6 http://archive.ubuntu.com/ubuntu bionic InRelease\n",
            "Hit:7 http://ppa.launchpad.net/c2d4u.team/c2d4u4.0+/ubuntu bionic InRelease\n",
            "Get:8 http://archive.ubuntu.com/ubuntu bionic-updates InRelease [88.7 kB]\n",
            "Hit:9 http://ppa.launchpad.net/cran/libgit2/ubuntu bionic InRelease\n",
            "Get:11 http://archive.ubuntu.com/ubuntu bionic-backports InRelease [74.6 kB]\n",
            "Hit:12 http://ppa.launchpad.net/deadsnakes/ppa/ubuntu bionic InRelease\n",
            "Hit:13 http://ppa.launchpad.net/graphics-drivers/ppa/ubuntu bionic InRelease\n",
            "Fetched 252 kB in 1s (178 kB/s)\n",
            "Reading package lists... Done\n",
            "Reading package lists... Done\n",
            "Building dependency tree       \n",
            "Reading state information... Done\n",
            "build-essential is already the newest version (12.4ubuntu1).\n",
            "swig is already the newest version (3.0.12-1).\n",
            "The following packages were automatically installed and are no longer required:\n",
            "  libnvidia-common-460 nsight-compute-2020.2.0\n",
            "Use 'sudo apt autoremove' to remove them.\n",
            "0 upgraded, 0 newly installed, 0 to remove and 6 not upgraded.\n",
            "Reading package lists... Done\n",
            "Building dependency tree       \n",
            "Reading state information... Done\n",
            "Calculating upgrade... Done\n",
            "The following packages were automatically installed and are no longer required:\n",
            "  libnvidia-common-460 nsight-compute-2020.2.0\n",
            "Use 'sudo apt autoremove' to remove them.\n",
            "The following packages have been kept back:\n",
            "  cuda-drivers libcudnn8 libcudnn8-dev libnccl-dev libnccl2\n",
            "  linux-headers-generic\n",
            "0 upgraded, 0 newly installed, 0 to remove and 6 not upgraded.\n",
            "  % Total    % Received % Xferd  Average Speed   Time    Time     Time  Current\n",
            "                                 Dload  Upload   Total   Spent    Left  Speed\n",
            "100   259  100   259    0     0   1811      0 --:--:-- --:--:-- --:--:--  1811\n",
            "Requirement already satisfied: setuptools in /usr/local/lib/python3.7/dist-packages (57.4.0)\n",
            "Requirement already satisfied: typing_extensions in /usr/local/lib/python3.7/dist-packages (4.2.0)\n",
            "Requirement already satisfied: distro in /usr/local/lib/python3.7/dist-packages (1.7.0)\n",
            "Requirement already satisfied: numpy>=1.9.0 in /usr/local/lib/python3.7/dist-packages (1.21.6)\n",
            "Requirement already satisfied: scipy>=1.7.0 in /usr/local/lib/python3.7/dist-packages (1.7.3)\n",
            "Requirement already satisfied: numpy<1.23.0,>=1.16.5 in /usr/local/lib/python3.7/dist-packages (from scipy>=1.7.0) (1.21.6)\n",
            "Requirement already satisfied: joblib in /usr/local/lib/python3.7/dist-packages (1.1.0)\n",
            "Requirement already satisfied: scikit-learn<0.25.0,>=0.24.0 in /usr/local/lib/python3.7/dist-packages (0.24.2)\n",
            "Requirement already satisfied: scipy>=0.19.1 in /usr/local/lib/python3.7/dist-packages (from scikit-learn<0.25.0,>=0.24.0) (1.7.3)\n",
            "Requirement already satisfied: numpy>=1.13.3 in /usr/local/lib/python3.7/dist-packages (from scikit-learn<0.25.0,>=0.24.0) (1.21.6)\n",
            "Requirement already satisfied: threadpoolctl>=2.0.0 in /usr/local/lib/python3.7/dist-packages (from scikit-learn<0.25.0,>=0.24.0) (3.1.0)\n",
            "Requirement already satisfied: joblib>=0.11 in /usr/local/lib/python3.7/dist-packages (from scikit-learn<0.25.0,>=0.24.0) (1.1.0)\n",
            "Requirement already satisfied: dask>=2021.12 in /usr/local/lib/python3.7/dist-packages (2022.2.0)\n",
            "Requirement already satisfied: fsspec>=0.6.0 in /usr/local/lib/python3.7/dist-packages (from dask>=2021.12) (2022.3.0)\n",
            "Requirement already satisfied: pyyaml>=5.3.1 in /usr/local/lib/python3.7/dist-packages (from dask>=2021.12) (6.0)\n",
            "Requirement already satisfied: packaging>=20.0 in /usr/local/lib/python3.7/dist-packages (from dask>=2021.12) (21.3)\n",
            "Requirement already satisfied: toolz>=0.8.2 in /usr/local/lib/python3.7/dist-packages (from dask>=2021.12) (0.11.2)\n",
            "Requirement already satisfied: cloudpickle>=1.1.1 in /usr/local/lib/python3.7/dist-packages (from dask>=2021.12) (2.0.0)\n",
            "Requirement already satisfied: partd>=0.3.10 in /usr/local/lib/python3.7/dist-packages (from dask>=2021.12) (1.2.0)\n",
            "Requirement already satisfied: pyparsing!=3.0.5,>=2.0.2 in /usr/local/lib/python3.7/dist-packages (from packaging>=20.0->dask>=2021.12) (3.0.8)\n",
            "Requirement already satisfied: locket in /usr/local/lib/python3.7/dist-packages (from partd>=0.3.10->dask>=2021.12) (1.0.0)\n",
            "Requirement already satisfied: distributed>=2012.12 in /usr/local/lib/python3.7/dist-packages (2022.2.0)\n",
            "Requirement already satisfied: sortedcontainers!=2.0.0,!=2.0.1 in /usr/local/lib/python3.7/dist-packages (from distributed>=2012.12) (2.4.0)\n",
            "Requirement already satisfied: toolz>=0.8.2 in /usr/local/lib/python3.7/dist-packages (from distributed>=2012.12) (0.11.2)\n",
            "Requirement already satisfied: msgpack>=0.6.0 in /usr/local/lib/python3.7/dist-packages (from distributed>=2012.12) (1.0.3)\n",
            "Requirement already satisfied: zict>=0.1.3 in /usr/local/lib/python3.7/dist-packages (from distributed>=2012.12) (2.2.0)\n",
            "Requirement already satisfied: setuptools in /usr/local/lib/python3.7/dist-packages (from distributed>=2012.12) (57.4.0)\n",
            "Requirement already satisfied: psutil>=5.0 in /usr/local/lib/python3.7/dist-packages (from distributed>=2012.12) (5.4.8)\n",
            "Requirement already satisfied: tornado>=5 in /usr/local/lib/python3.7/dist-packages (from distributed>=2012.12) (5.1.1)\n",
            "Requirement already satisfied: pyyaml in /usr/local/lib/python3.7/dist-packages (from distributed>=2012.12) (6.0)\n",
            "Requirement already satisfied: jinja2 in /usr/local/lib/python3.7/dist-packages (from distributed>=2012.12) (2.11.3)\n",
            "Requirement already satisfied: dask==2022.02.0 in /usr/local/lib/python3.7/dist-packages (from distributed>=2012.12) (2022.2.0)\n",
            "Requirement already satisfied: packaging>=20.0 in /usr/local/lib/python3.7/dist-packages (from distributed>=2012.12) (21.3)\n",
            "Requirement already satisfied: click>=6.6 in /usr/local/lib/python3.7/dist-packages (from distributed>=2012.12) (7.1.2)\n",
            "Requirement already satisfied: cloudpickle>=1.5.0 in /usr/local/lib/python3.7/dist-packages (from distributed>=2012.12) (2.0.0)\n",
            "Requirement already satisfied: tblib>=1.6.0 in /usr/local/lib/python3.7/dist-packages (from distributed>=2012.12) (1.7.0)\n",
            "Requirement already satisfied: partd>=0.3.10 in /usr/local/lib/python3.7/dist-packages (from dask==2022.02.0->distributed>=2012.12) (1.2.0)\n",
            "Requirement already satisfied: fsspec>=0.6.0 in /usr/local/lib/python3.7/dist-packages (from dask==2022.02.0->distributed>=2012.12) (2022.3.0)\n",
            "Requirement already satisfied: pyparsing!=3.0.5,>=2.0.2 in /usr/local/lib/python3.7/dist-packages (from packaging>=20.0->distributed>=2012.12) (3.0.8)\n",
            "Requirement already satisfied: locket in /usr/local/lib/python3.7/dist-packages (from partd>=0.3.10->dask==2022.02.0->distributed>=2012.12) (1.0.0)\n",
            "Requirement already satisfied: heapdict in /usr/local/lib/python3.7/dist-packages (from zict>=0.1.3->distributed>=2012.12) (1.0.1)\n",
            "Requirement already satisfied: MarkupSafe>=0.23 in /usr/local/lib/python3.7/dist-packages (from jinja2->distributed>=2012.12) (2.0.1)\n",
            "Requirement already satisfied: pyyaml in /usr/local/lib/python3.7/dist-packages (6.0)\n",
            "Requirement already satisfied: pandas>=1.0 in /usr/local/lib/python3.7/dist-packages (1.3.5)\n",
            "Requirement already satisfied: numpy>=1.17.3 in /usr/local/lib/python3.7/dist-packages (from pandas>=1.0) (1.21.6)\n",
            "Requirement already satisfied: pytz>=2017.3 in /usr/local/lib/python3.7/dist-packages (from pandas>=1.0) (2022.1)\n",
            "Requirement already satisfied: python-dateutil>=2.7.3 in /usr/local/lib/python3.7/dist-packages (from pandas>=1.0) (2.8.2)\n",
            "Requirement already satisfied: six>=1.5 in /usr/local/lib/python3.7/dist-packages (from python-dateutil>=2.7.3->pandas>=1.0) (1.15.0)\n",
            "Requirement already satisfied: liac-arff in /usr/local/lib/python3.7/dist-packages (2.5.0)\n",
            "Requirement already satisfied: threadpoolctl in /usr/local/lib/python3.7/dist-packages (3.1.0)\n",
            "Requirement already satisfied: ConfigSpace<0.5,>=0.4.21 in /usr/local/lib/python3.7/dist-packages (0.4.21)\n",
            "Requirement already satisfied: scipy in /usr/local/lib/python3.7/dist-packages (from ConfigSpace<0.5,>=0.4.21) (1.7.3)\n",
            "Requirement already satisfied: pyparsing in /usr/local/lib/python3.7/dist-packages (from ConfigSpace<0.5,>=0.4.21) (3.0.8)\n",
            "Requirement already satisfied: cython in /usr/local/lib/python3.7/dist-packages (from ConfigSpace<0.5,>=0.4.21) (0.29.28)\n",
            "Requirement already satisfied: numpy in /usr/local/lib/python3.7/dist-packages (from ConfigSpace<0.5,>=0.4.21) (1.21.6)\n",
            "Requirement already satisfied: pynisher<0.7,>=0.6.3 in /usr/local/lib/python3.7/dist-packages (0.6.4)\n",
            "Requirement already satisfied: psutil in /usr/local/lib/python3.7/dist-packages (from pynisher<0.7,>=0.6.3) (5.4.8)\n",
            "Requirement already satisfied: setuptools in /usr/local/lib/python3.7/dist-packages (from pynisher<0.7,>=0.6.3) (57.4.0)\n",
            "Requirement already satisfied: pyrfr<0.9,>=0.8.1 in /usr/local/lib/python3.7/dist-packages (0.8.2)\n",
            "Requirement already satisfied: smac<1.3,>=1.2 in /usr/local/lib/python3.7/dist-packages (1.2)\n",
            "Requirement already satisfied: psutil in /usr/local/lib/python3.7/dist-packages (from smac<1.3,>=1.2) (5.4.8)\n",
            "Requirement already satisfied: scipy>=1.7.0 in /usr/local/lib/python3.7/dist-packages (from smac<1.3,>=1.2) (1.7.3)\n",
            "Requirement already satisfied: scikit-learn>=0.22.0 in /usr/local/lib/python3.7/dist-packages (from smac<1.3,>=1.2) (0.24.2)\n",
            "Requirement already satisfied: ConfigSpace<0.5,>=0.4.14 in /usr/local/lib/python3.7/dist-packages (from smac<1.3,>=1.2) (0.4.21)\n",
            "Requirement already satisfied: joblib in /usr/local/lib/python3.7/dist-packages (from smac<1.3,>=1.2) (1.1.0)\n",
            "Requirement already satisfied: pyrfr>=0.8.0 in /usr/local/lib/python3.7/dist-packages (from smac<1.3,>=1.2) (0.8.2)\n",
            "Requirement already satisfied: numpy>=1.7.1 in /usr/local/lib/python3.7/dist-packages (from smac<1.3,>=1.2) (1.21.6)\n",
            "Requirement already satisfied: emcee>=3.0.0 in /usr/local/lib/python3.7/dist-packages (from smac<1.3,>=1.2) (3.1.2)\n",
            "Requirement already satisfied: dask in /usr/local/lib/python3.7/dist-packages (from smac<1.3,>=1.2) (2022.2.0)\n",
            "Requirement already satisfied: distributed in /usr/local/lib/python3.7/dist-packages (from smac<1.3,>=1.2) (2022.2.0)\n",
            "Requirement already satisfied: pynisher>=0.4.1 in /usr/local/lib/python3.7/dist-packages (from smac<1.3,>=1.2) (0.6.4)\n",
            "Requirement already satisfied: cython in /usr/local/lib/python3.7/dist-packages (from ConfigSpace<0.5,>=0.4.14->smac<1.3,>=1.2) (0.29.28)\n",
            "Requirement already satisfied: pyparsing in /usr/local/lib/python3.7/dist-packages (from ConfigSpace<0.5,>=0.4.14->smac<1.3,>=1.2) (3.0.8)\n",
            "Requirement already satisfied: setuptools in /usr/local/lib/python3.7/dist-packages (from pynisher>=0.4.1->smac<1.3,>=1.2) (57.4.0)\n",
            "Requirement already satisfied: threadpoolctl>=2.0.0 in /usr/local/lib/python3.7/dist-packages (from scikit-learn>=0.22.0->smac<1.3,>=1.2) (3.1.0)\n",
            "Requirement already satisfied: pyyaml>=5.3.1 in /usr/local/lib/python3.7/dist-packages (from dask->smac<1.3,>=1.2) (6.0)\n",
            "Requirement already satisfied: partd>=0.3.10 in /usr/local/lib/python3.7/dist-packages (from dask->smac<1.3,>=1.2) (1.2.0)\n",
            "Requirement already satisfied: cloudpickle>=1.1.1 in /usr/local/lib/python3.7/dist-packages (from dask->smac<1.3,>=1.2) (2.0.0)\n",
            "Requirement already satisfied: fsspec>=0.6.0 in /usr/local/lib/python3.7/dist-packages (from dask->smac<1.3,>=1.2) (2022.3.0)\n",
            "Requirement already satisfied: toolz>=0.8.2 in /usr/local/lib/python3.7/dist-packages (from dask->smac<1.3,>=1.2) (0.11.2)\n",
            "Requirement already satisfied: packaging>=20.0 in /usr/local/lib/python3.7/dist-packages (from dask->smac<1.3,>=1.2) (21.3)\n",
            "Requirement already satisfied: locket in /usr/local/lib/python3.7/dist-packages (from partd>=0.3.10->dask->smac<1.3,>=1.2) (1.0.0)\n",
            "Requirement already satisfied: sortedcontainers!=2.0.0,!=2.0.1 in /usr/local/lib/python3.7/dist-packages (from distributed->smac<1.3,>=1.2) (2.4.0)\n",
            "Requirement already satisfied: jinja2 in /usr/local/lib/python3.7/dist-packages (from distributed->smac<1.3,>=1.2) (2.11.3)\n",
            "Requirement already satisfied: msgpack>=0.6.0 in /usr/local/lib/python3.7/dist-packages (from distributed->smac<1.3,>=1.2) (1.0.3)\n",
            "Requirement already satisfied: tblib>=1.6.0 in /usr/local/lib/python3.7/dist-packages (from distributed->smac<1.3,>=1.2) (1.7.0)\n",
            "Requirement already satisfied: zict>=0.1.3 in /usr/local/lib/python3.7/dist-packages (from distributed->smac<1.3,>=1.2) (2.2.0)\n",
            "Requirement already satisfied: tornado>=5 in /usr/local/lib/python3.7/dist-packages (from distributed->smac<1.3,>=1.2) (5.1.1)\n",
            "Requirement already satisfied: click>=6.6 in /usr/local/lib/python3.7/dist-packages (from distributed->smac<1.3,>=1.2) (7.1.2)\n",
            "Requirement already satisfied: heapdict in /usr/local/lib/python3.7/dist-packages (from zict>=0.1.3->distributed->smac<1.3,>=1.2) (1.0.1)\n",
            "Requirement already satisfied: MarkupSafe>=0.23 in /usr/local/lib/python3.7/dist-packages (from jinja2->distributed->smac<1.3,>=1.2) (2.0.1)\n",
            "Requirement already satisfied: auto-sklearn in /usr/local/lib/python3.7/dist-packages (0.14.7)\n",
            "Requirement already satisfied: joblib in /usr/local/lib/python3.7/dist-packages (from auto-sklearn) (1.1.0)\n",
            "Requirement already satisfied: threadpoolctl in /usr/local/lib/python3.7/dist-packages (from auto-sklearn) (3.1.0)\n",
            "Requirement already satisfied: numpy>=1.9.0 in /usr/local/lib/python3.7/dist-packages (from auto-sklearn) (1.21.6)\n",
            "Requirement already satisfied: distro in /usr/local/lib/python3.7/dist-packages (from auto-sklearn) (1.7.0)\n",
            "Requirement already satisfied: dask>=2021.12 in /usr/local/lib/python3.7/dist-packages (from auto-sklearn) (2022.2.0)\n",
            "Requirement already satisfied: pyyaml in /usr/local/lib/python3.7/dist-packages (from auto-sklearn) (6.0)\n",
            "Requirement already satisfied: pyrfr<0.9,>=0.8.1 in /usr/local/lib/python3.7/dist-packages (from auto-sklearn) (0.8.2)\n",
            "Requirement already satisfied: ConfigSpace<0.5,>=0.4.21 in /usr/local/lib/python3.7/dist-packages (from auto-sklearn) (0.4.21)\n",
            "Requirement already satisfied: distributed>=2012.12 in /usr/local/lib/python3.7/dist-packages (from auto-sklearn) (2022.2.0)\n",
            "Requirement already satisfied: typing-extensions in /usr/local/lib/python3.7/dist-packages (from auto-sklearn) (4.2.0)\n",
            "Requirement already satisfied: liac-arff in /usr/local/lib/python3.7/dist-packages (from auto-sklearn) (2.5.0)\n",
            "Requirement already satisfied: scipy>=1.7.0 in /usr/local/lib/python3.7/dist-packages (from auto-sklearn) (1.7.3)\n",
            "Requirement already satisfied: scikit-learn<0.25.0,>=0.24.0 in /usr/local/lib/python3.7/dist-packages (from auto-sklearn) (0.24.2)\n",
            "Requirement already satisfied: setuptools in /usr/local/lib/python3.7/dist-packages (from auto-sklearn) (57.4.0)\n",
            "Requirement already satisfied: smac<1.3,>=1.2 in /usr/local/lib/python3.7/dist-packages (from auto-sklearn) (1.2)\n",
            "Requirement already satisfied: pandas>=1.0 in /usr/local/lib/python3.7/dist-packages (from auto-sklearn) (1.3.5)\n",
            "Requirement already satisfied: pynisher<0.7,>=0.6.3 in /usr/local/lib/python3.7/dist-packages (from auto-sklearn) (0.6.4)\n",
            "Requirement already satisfied: pyparsing in /usr/local/lib/python3.7/dist-packages (from ConfigSpace<0.5,>=0.4.21->auto-sklearn) (3.0.8)\n",
            "Requirement already satisfied: cython in /usr/local/lib/python3.7/dist-packages (from ConfigSpace<0.5,>=0.4.21->auto-sklearn) (0.29.28)\n",
            "Requirement already satisfied: packaging>=20.0 in /usr/local/lib/python3.7/dist-packages (from dask>=2021.12->auto-sklearn) (21.3)\n",
            "Requirement already satisfied: fsspec>=0.6.0 in /usr/local/lib/python3.7/dist-packages (from dask>=2021.12->auto-sklearn) (2022.3.0)\n",
            "Requirement already satisfied: partd>=0.3.10 in /usr/local/lib/python3.7/dist-packages (from dask>=2021.12->auto-sklearn) (1.2.0)\n",
            "Requirement already satisfied: toolz>=0.8.2 in /usr/local/lib/python3.7/dist-packages (from dask>=2021.12->auto-sklearn) (0.11.2)\n",
            "Requirement already satisfied: cloudpickle>=1.1.1 in /usr/local/lib/python3.7/dist-packages (from dask>=2021.12->auto-sklearn) (2.0.0)\n",
            "Requirement already satisfied: jinja2 in /usr/local/lib/python3.7/dist-packages (from distributed>=2012.12->auto-sklearn) (2.11.3)\n",
            "Requirement already satisfied: msgpack>=0.6.0 in /usr/local/lib/python3.7/dist-packages (from distributed>=2012.12->auto-sklearn) (1.0.3)\n",
            "Requirement already satisfied: tblib>=1.6.0 in /usr/local/lib/python3.7/dist-packages (from distributed>=2012.12->auto-sklearn) (1.7.0)\n",
            "Requirement already satisfied: zict>=0.1.3 in /usr/local/lib/python3.7/dist-packages (from distributed>=2012.12->auto-sklearn) (2.2.0)\n",
            "Requirement already satisfied: tornado>=5 in /usr/local/lib/python3.7/dist-packages (from distributed>=2012.12->auto-sklearn) (5.1.1)\n",
            "Requirement already satisfied: sortedcontainers!=2.0.0,!=2.0.1 in /usr/local/lib/python3.7/dist-packages (from distributed>=2012.12->auto-sklearn) (2.4.0)\n",
            "Requirement already satisfied: click>=6.6 in /usr/local/lib/python3.7/dist-packages (from distributed>=2012.12->auto-sklearn) (7.1.2)\n",
            "Requirement already satisfied: psutil>=5.0 in /usr/local/lib/python3.7/dist-packages (from distributed>=2012.12->auto-sklearn) (5.4.8)\n",
            "Requirement already satisfied: python-dateutil>=2.7.3 in /usr/local/lib/python3.7/dist-packages (from pandas>=1.0->auto-sklearn) (2.8.2)\n",
            "Requirement already satisfied: pytz>=2017.3 in /usr/local/lib/python3.7/dist-packages (from pandas>=1.0->auto-sklearn) (2022.1)\n",
            "Requirement already satisfied: locket in /usr/local/lib/python3.7/dist-packages (from partd>=0.3.10->dask>=2021.12->auto-sklearn) (1.0.0)\n",
            "Requirement already satisfied: six>=1.5 in /usr/local/lib/python3.7/dist-packages (from python-dateutil>=2.7.3->pandas>=1.0->auto-sklearn) (1.15.0)\n",
            "Requirement already satisfied: emcee>=3.0.0 in /usr/local/lib/python3.7/dist-packages (from smac<1.3,>=1.2->auto-sklearn) (3.1.2)\n",
            "Requirement already satisfied: heapdict in /usr/local/lib/python3.7/dist-packages (from zict>=0.1.3->distributed>=2012.12->auto-sklearn) (1.0.1)\n",
            "Requirement already satisfied: MarkupSafe>=0.23 in /usr/local/lib/python3.7/dist-packages (from jinja2->distributed>=2012.12->auto-sklearn) (2.0.1)\n"
          ]
        }
      ],
      "source": [
        "!sudo apt-get update\n",
        "!sudo apt-get install build-essential swig\n",
        "!sudo apt-get upgrade\n",
        "!curl https://raw.githubusercontent.com/automl/auto-sklearn/master/requirements.txt | xargs -n 1 -L 1 pip install\n",
        "!pip install auto-sklearn\n",
        "\n",
        "import autosklearn.classification"
      ]
    },
    {
      "cell_type": "markdown",
      "metadata": {
        "id": "gw3SqrEn_QHj"
      },
      "source": [
        "#**Libraries**"
      ]
    },
    {
      "cell_type": "code",
      "execution_count": null,
      "metadata": {
        "id": "p3th7KBvwn4v"
      },
      "outputs": [],
      "source": [
        "# Basic Libraries\n",
        "import pandas as pd\n",
        "import seaborn as sns\n",
        "\n",
        "import numpy as np\n",
        "from numpy import mean\n",
        "from numpy import std\n",
        "\n",
        "import matplotlib.pyplot as plt\n",
        "from matplotlib.colors import ListedColormap\n",
        "from scipy.stats.mstats import winsorize\n",
        "import scipy.stats as ss\n",
        "import math"
      ]
    },
    {
      "cell_type": "code",
      "execution_count": null,
      "metadata": {
        "id": "6msqkhai_Yh2"
      },
      "outputs": [],
      "source": [
        "# Scikit learn\n",
        "from sklearn.model_selection import train_test_split\n",
        "from sklearn.preprocessing import StandardScaler\n",
        "from sklearn.pipeline import make_pipeline\n",
        "from sklearn.metrics import confusion_matrix\n",
        "from sklearn.metrics import classification_report\n",
        "from sklearn.metrics import roc_auc_score\n",
        "from sklearn.metrics import log_loss\n",
        "from sklearn.metrics import balanced_accuracy_score\n",
        "from sklearn.metrics import f1_score\n",
        "from sklearn.model_selection import cross_val_score\n",
        "from sklearn.pipeline import Pipeline\n",
        "from sklearn.model_selection import KFold\n",
        "from sklearn.model_selection import StratifiedKFold\n",
        "from sklearn.model_selection import RepeatedStratifiedKFold\n",
        "from sklearn.model_selection import learning_curve\n",
        "from sklearn.model_selection import GridSearchCV\n",
        "from sklearn.metrics import accuracy_score, precision_score, recall_score, f1_score, roc_auc_score, confusion_matrix\n"
      ]
    },
    {
      "cell_type": "code",
      "execution_count": null,
      "metadata": {
        "id": "p7XL_KuEN06K"
      },
      "outputs": [],
      "source": [
        "# imblearn\n",
        "from imblearn.over_sampling import SMOTE\n",
        "from imblearn.pipeline import Pipeline as imbpipeline"
      ]
    },
    {
      "cell_type": "code",
      "execution_count": null,
      "metadata": {
        "colab": {
          "base_uri": "https://localhost:8080/"
        },
        "id": "mACZu71RdWGa",
        "outputId": "8433691b-1e40-4dfa-d0a1-342fe9deff49"
      },
      "outputs": [
        {
          "output_type": "stream",
          "name": "stdout",
          "text": [
            "Looking in indexes: https://pypi.org/simple, https://us-python.pkg.dev/colab-wheels/public/simple/\n",
            "Collecting scikit-plot\n",
            "  Downloading scikit_plot-0.3.7-py3-none-any.whl (33 kB)\n",
            "Requirement already satisfied: scipy>=0.9 in /usr/local/lib/python3.9/dist-packages (from scikit-plot) (1.10.1)\n",
            "Requirement already satisfied: scikit-learn>=0.18 in /usr/local/lib/python3.9/dist-packages (from scikit-plot) (1.2.2)\n",
            "Requirement already satisfied: joblib>=0.10 in /usr/local/lib/python3.9/dist-packages (from scikit-plot) (1.1.1)\n",
            "Requirement already satisfied: matplotlib>=1.4.0 in /usr/local/lib/python3.9/dist-packages (from scikit-plot) (3.7.1)\n",
            "Requirement already satisfied: importlib-resources>=3.2.0 in /usr/local/lib/python3.9/dist-packages (from matplotlib>=1.4.0->scikit-plot) (5.12.0)\n",
            "Requirement already satisfied: contourpy>=1.0.1 in /usr/local/lib/python3.9/dist-packages (from matplotlib>=1.4.0->scikit-plot) (1.0.7)\n",
            "Requirement already satisfied: python-dateutil>=2.7 in /usr/local/lib/python3.9/dist-packages (from matplotlib>=1.4.0->scikit-plot) (2.8.2)\n",
            "Requirement already satisfied: cycler>=0.10 in /usr/local/lib/python3.9/dist-packages (from matplotlib>=1.4.0->scikit-plot) (0.11.0)\n",
            "Requirement already satisfied: pyparsing>=2.3.1 in /usr/local/lib/python3.9/dist-packages (from matplotlib>=1.4.0->scikit-plot) (3.0.9)\n",
            "Requirement already satisfied: packaging>=20.0 in /usr/local/lib/python3.9/dist-packages (from matplotlib>=1.4.0->scikit-plot) (23.0)\n",
            "Requirement already satisfied: kiwisolver>=1.0.1 in /usr/local/lib/python3.9/dist-packages (from matplotlib>=1.4.0->scikit-plot) (1.4.4)\n",
            "Requirement already satisfied: pillow>=6.2.0 in /usr/local/lib/python3.9/dist-packages (from matplotlib>=1.4.0->scikit-plot) (8.4.0)\n",
            "Requirement already satisfied: numpy>=1.20 in /usr/local/lib/python3.9/dist-packages (from matplotlib>=1.4.0->scikit-plot) (1.22.4)\n",
            "Requirement already satisfied: fonttools>=4.22.0 in /usr/local/lib/python3.9/dist-packages (from matplotlib>=1.4.0->scikit-plot) (4.39.2)\n",
            "Requirement already satisfied: threadpoolctl>=2.0.0 in /usr/local/lib/python3.9/dist-packages (from scikit-learn>=0.18->scikit-plot) (3.1.0)\n",
            "Requirement already satisfied: zipp>=3.1.0 in /usr/local/lib/python3.9/dist-packages (from importlib-resources>=3.2.0->matplotlib>=1.4.0->scikit-plot) (3.15.0)\n",
            "Requirement already satisfied: six>=1.5 in /usr/local/lib/python3.9/dist-packages (from python-dateutil>=2.7->matplotlib>=1.4.0->scikit-plot) (1.16.0)\n",
            "Installing collected packages: scikit-plot\n",
            "Successfully installed scikit-plot-0.3.7\n"
          ]
        }
      ],
      "source": [
        "# scikitplot\n",
        "!pip install scikit-plot\n",
        "import scikitplot as skplt"
      ]
    },
    {
      "cell_type": "markdown",
      "metadata": {
        "id": "UT59Dn_NSo1H"
      },
      "source": [
        "#**Data**"
      ]
    },
    {
      "cell_type": "code",
      "execution_count": null,
      "metadata": {
        "colab": {
          "base_uri": "https://localhost:8080/"
        },
        "id": "nIiFMMaLs-pJ",
        "outputId": "391f28e7-e9d6-407a-bfd2-d89c596cc92f"
      },
      "outputs": [
        {
          "output_type": "stream",
          "name": "stdout",
          "text": [
            "Drive already mounted at /content/drive; to attempt to forcibly remount, call drive.mount(\"/content/drive\", force_remount=True).\n"
          ]
        }
      ],
      "source": [
        "# Read Data\n",
        "# Mount drive\n",
        "from google.colab import drive\n",
        "drive.mount('/content/drive')\n",
        "\n",
        "# Read\n",
        "file_ = \"drive/My Drive/Colab Notebooks/Big Data ML/New BDML/Data/Marketing_Leads_India.csv\"   # adapt this as needed to the file structure on your Google drive\n",
        "df = pd.read_csv(file_) # read in csv file"
      ]
    },
    {
      "cell_type": "code",
      "execution_count": null,
      "metadata": {
        "colab": {
          "base_uri": "https://localhost:8080/"
        },
        "id": "--mZ5CJqWaaR",
        "outputId": "3e699167-c7da-4bd4-d09d-60dcd781c658"
      },
      "outputs": [
        {
          "name": "stdout",
          "output_type": "stream",
          "text": [
            "Shape (9240, 36)\n",
            "<class 'pandas.core.frame.DataFrame'>\n",
            "RangeIndex: 9240 entries, 0 to 9239\n",
            "Data columns (total 36 columns):\n",
            " #   Column                                         Non-Null Count  Dtype  \n",
            "---  ------                                         --------------  -----  \n",
            " 0   Lead Number                                    9240 non-null   int64  \n",
            " 1   Lead Origin                                    9240 non-null   object \n",
            " 2   Lead Source                                    9204 non-null   object \n",
            " 3   Do Not Email                                   9240 non-null   object \n",
            " 4   Do Not Call                                    9240 non-null   object \n",
            " 5   Converted                                      9240 non-null   int64  \n",
            " 6   TotalVisits                                    9103 non-null   float64\n",
            " 7   Total Time Spent on Website                    9240 non-null   int64  \n",
            " 8   Page Views Per Visit                           9103 non-null   float64\n",
            " 9   Last Activity                                  9137 non-null   object \n",
            " 10  Country                                        9240 non-null   object \n",
            " 11  Specialization                                 9240 non-null   object \n",
            " 12  How did you hear about X Education             1990 non-null   object \n",
            " 13  What is your current occupation                9240 non-null   object \n",
            " 14  What matters most to you in choosing a course  6531 non-null   object \n",
            " 15  Search                                         9240 non-null   object \n",
            " 16  Magazine                                       9240 non-null   object \n",
            " 17  Newspaper Article                              9240 non-null   object \n",
            " 18  X Education Forums                             9240 non-null   object \n",
            " 19  Newspaper                                      9240 non-null   object \n",
            " 20  Digital Advertisement                          9240 non-null   object \n",
            " 21  Through Recommendations                        9240 non-null   object \n",
            " 22  Receive More Updates About Our Courses         9240 non-null   object \n",
            " 23  Tags                                           9240 non-null   object \n",
            " 24  Lead Quality                                   9240 non-null   object \n",
            " 25  Update me on Supply Chain Content              9240 non-null   object \n",
            " 26  Get updates on DM Content                      9240 non-null   object \n",
            " 27  Lead Profile                                   2385 non-null   object \n",
            " 28  City                                           5571 non-null   object \n",
            " 29  Asymmetrique Activity Index                    5022 non-null   object \n",
            " 30  Asymmetrique Profile Index                     5022 non-null   object \n",
            " 31  Asymmetrique Activity Score                    5022 non-null   float64\n",
            " 32  Asymmetrique Profile Score                     5022 non-null   float64\n",
            " 33  I agree to pay the amount through cheque       9240 non-null   object \n",
            " 34  A free copy of Mastering The Interview         9240 non-null   object \n",
            " 35  Last Notable Activity                          9240 non-null   object \n",
            "dtypes: float64(4), int64(3), object(29)\n",
            "memory usage: 2.5+ MB\n",
            "None\n",
            "   Lead Number              Lead Origin     Lead Source Do Not Email  \\\n",
            "0       660737                      API      Olark Chat           No   \n",
            "1       660728                      API  Organic Search           No   \n",
            "2       660727  Landing Page Submission  Direct Traffic           No   \n",
            "3       660719  Landing Page Submission  Direct Traffic           No   \n",
            "4       660681  Landing Page Submission          Google           No   \n",
            "\n",
            "  Do Not Call  Converted  TotalVisits  Total Time Spent on Website  \\\n",
            "0          No          0          0.0                            0   \n",
            "1          No          0          5.0                          674   \n",
            "2          No          1          2.0                         1532   \n",
            "3          No          0          1.0                          305   \n",
            "4          No          1          2.0                         1428   \n",
            "\n",
            "   Page Views Per Visit            Last Activity Country  \\\n",
            "0                   0.0  Page Visited on Website   India   \n",
            "1                   2.5             Email Opened   India   \n",
            "2                   2.0             Email Opened   India   \n",
            "3                   1.0              Unreachable   India   \n",
            "4                   1.0        Converted to Lead   India   \n",
            "\n",
            "            Specialization How did you hear about X Education  \\\n",
            "0                   Others                                NaN   \n",
            "1                   Others                                NaN   \n",
            "2  Business Administration                                NaN   \n",
            "3    Media and Advertising                      Word Of Mouth   \n",
            "4                   Others                              Other   \n",
            "\n",
            "  What is your current occupation  \\\n",
            "0                      Unemployed   \n",
            "1                      Unemployed   \n",
            "2                         Student   \n",
            "3                      Unemployed   \n",
            "4                      Unemployed   \n",
            "\n",
            "  What matters most to you in choosing a course Search Magazine  \\\n",
            "0                       Better Career Prospects     No       No   \n",
            "1                       Better Career Prospects     No       No   \n",
            "2                       Better Career Prospects     No       No   \n",
            "3                       Better Career Prospects     No       No   \n",
            "4                       Better Career Prospects     No       No   \n",
            "\n",
            "  Newspaper Article X Education Forums Newspaper Digital Advertisement  \\\n",
            "0                No                 No        No                    No   \n",
            "1                No                 No        No                    No   \n",
            "2                No                 No        No                    No   \n",
            "3                No                 No        No                    No   \n",
            "4                No                 No        No                    No   \n",
            "\n",
            "  Through Recommendations Receive More Updates About Our Courses  \\\n",
            "0                      No                                     No   \n",
            "1                      No                                     No   \n",
            "2                      No                                     No   \n",
            "3                      No                                     No   \n",
            "4                      No                                     No   \n",
            "\n",
            "                                  Tags      Lead Quality  \\\n",
            "0          Interested in other courses  Low in Relevance   \n",
            "1                              Ringing          Not Sure   \n",
            "2  Will revert after reading the email          Might be   \n",
            "3                              Ringing          Not Sure   \n",
            "4  Will revert after reading the email          Might be   \n",
            "\n",
            "  Update me on Supply Chain Content Get updates on DM Content    Lead Profile  \\\n",
            "0                                No                        No             NaN   \n",
            "1                                No                        No             NaN   \n",
            "2                                No                        No  Potential Lead   \n",
            "3                                No                        No             NaN   \n",
            "4                                No                        No             NaN   \n",
            "\n",
            "     City Asymmetrique Activity Index Asymmetrique Profile Index  \\\n",
            "0     NaN                   02.Medium                  02.Medium   \n",
            "1     NaN                   02.Medium                  02.Medium   \n",
            "2  Mumbai                   02.Medium                    01.High   \n",
            "3  Mumbai                   02.Medium                    01.High   \n",
            "4  Mumbai                   02.Medium                    01.High   \n",
            "\n",
            "   Asymmetrique Activity Score  Asymmetrique Profile Score  \\\n",
            "0                         15.0                        15.0   \n",
            "1                         15.0                        15.0   \n",
            "2                         14.0                        20.0   \n",
            "3                         13.0                        17.0   \n",
            "4                         15.0                        18.0   \n",
            "\n",
            "  I agree to pay the amount through cheque  \\\n",
            "0                                       No   \n",
            "1                                       No   \n",
            "2                                       No   \n",
            "3                                       No   \n",
            "4                                       No   \n",
            "\n",
            "  A free copy of Mastering The Interview Last Notable Activity  \n",
            "0                                     No              Modified  \n",
            "1                                     No          Email Opened  \n",
            "2                                    Yes          Email Opened  \n",
            "3                                     No              Modified  \n",
            "4                                     No              Modified  \n",
            "      Lead Number              Lead Origin     Lead Source Do Not Email  \\\n",
            "9235       579564  Landing Page Submission  Direct Traffic          Yes   \n",
            "9236       579546  Landing Page Submission  Direct Traffic           No   \n",
            "9237       579545  Landing Page Submission  Direct Traffic          Yes   \n",
            "9238       579538  Landing Page Submission          Google           No   \n",
            "9239       579533  Landing Page Submission  Direct Traffic           No   \n",
            "\n",
            "     Do Not Call  Converted  TotalVisits  Total Time Spent on Website  \\\n",
            "9235          No          1          8.0                         1845   \n",
            "9236          No          0          2.0                          238   \n",
            "9237          No          0          2.0                          199   \n",
            "9238          No          1          3.0                          499   \n",
            "9239          No          1          6.0                         1279   \n",
            "\n",
            "      Page Views Per Visit      Last Activity       Country  \\\n",
            "9235                  2.67  Email Marked Spam  Saudi Arabia   \n",
            "9236                  2.00           SMS Sent         India   \n",
            "9237                  2.00           SMS Sent         India   \n",
            "9238                  3.00           SMS Sent         India   \n",
            "9239                  3.00           SMS Sent    Bangladesh   \n",
            "\n",
            "                 Specialization How did you hear about X Education  \\\n",
            "9235     IT Projects Management                                NaN   \n",
            "9236      Media and Advertising                                NaN   \n",
            "9237    Business Administration                                NaN   \n",
            "9238  Human Resource Management                      Online Search   \n",
            "9239    Supply Chain Management                                NaN   \n",
            "\n",
            "     What is your current occupation  \\\n",
            "9235                      Unemployed   \n",
            "9236                      Unemployed   \n",
            "9237                      Unemployed   \n",
            "9238                      Unemployed   \n",
            "9239                      Unemployed   \n",
            "\n",
            "     What matters most to you in choosing a course Search Magazine  \\\n",
            "9235                       Better Career Prospects     No       No   \n",
            "9236                       Better Career Prospects     No       No   \n",
            "9237                       Better Career Prospects     No       No   \n",
            "9238                                           NaN     No       No   \n",
            "9239                       Better Career Prospects     No       No   \n",
            "\n",
            "     Newspaper Article X Education Forums Newspaper Digital Advertisement  \\\n",
            "9235                No                 No        No                    No   \n",
            "9236                No                 No        No                    No   \n",
            "9237                No                 No        No                    No   \n",
            "9238                No                 No        No                    No   \n",
            "9239                No                 No        No                    No   \n",
            "\n",
            "     Through Recommendations Receive More Updates About Our Courses  \\\n",
            "9235                      No                                     No   \n",
            "9236                      No                                     No   \n",
            "9237                      No                                     No   \n",
            "9238                      No                                     No   \n",
            "9239                      No                                     No   \n",
            "\n",
            "                                     Tags       Lead Quality  \\\n",
            "9235  Will revert after reading the email  High in Relevance   \n",
            "9236                   wrong number given           Might be   \n",
            "9237                       invalid number           Not Sure   \n",
            "9238  Will revert after reading the email           Not Sure   \n",
            "9239  Will revert after reading the email           Might be   \n",
            "\n",
            "     Update me on Supply Chain Content Get updates on DM Content  \\\n",
            "9235                                No                        No   \n",
            "9236                                No                        No   \n",
            "9237                                No                        No   \n",
            "9238                                No                        No   \n",
            "9239                                No                        No   \n",
            "\n",
            "        Lead Profile                City Asymmetrique Activity Index  \\\n",
            "9235  Potential Lead              Mumbai                   02.Medium   \n",
            "9236  Potential Lead              Mumbai                   02.Medium   \n",
            "9237  Potential Lead              Mumbai                   02.Medium   \n",
            "9238             NaN  Other Metro Cities                   02.Medium   \n",
            "9239  Potential Lead        Other Cities                   02.Medium   \n",
            "\n",
            "     Asymmetrique Profile Index  Asymmetrique Activity Score  \\\n",
            "9235                    01.High                         15.0   \n",
            "9236                    01.High                         14.0   \n",
            "9237                    01.High                         13.0   \n",
            "9238                  02.Medium                         15.0   \n",
            "9239                    01.High                         15.0   \n",
            "\n",
            "      Asymmetrique Profile Score I agree to pay the amount through cheque  \\\n",
            "9235                        17.0                                       No   \n",
            "9236                        19.0                                       No   \n",
            "9237                        20.0                                       No   \n",
            "9238                        16.0                                       No   \n",
            "9239                        18.0                                       No   \n",
            "\n",
            "     A free copy of Mastering The Interview Last Notable Activity  \n",
            "9235                                     No     Email Marked Spam  \n",
            "9236                                    Yes              SMS Sent  \n",
            "9237                                    Yes              SMS Sent  \n",
            "9238                                     No              SMS Sent  \n",
            "9239                                    Yes              Modified  \n"
          ]
        }
      ],
      "source": [
        "# Ensure maximum display for pandas\n",
        "pd.set_option('display.max_columns', None)\n",
        "\n",
        "# Shape of df\n",
        "print(\"Shape\", df.shape)\n",
        "\n",
        "# Check data types\n",
        "print(df.info())\n",
        "\n",
        "# Head  tail of df\n",
        "print(df.head())\n",
        "print(df.tail())"
      ]
    },
    {
      "cell_type": "markdown",
      "metadata": {
        "id": "vhwsGfSBGSM8"
      },
      "source": [
        "#**Preprocessing**"
      ]
    },
    {
      "cell_type": "markdown",
      "metadata": {
        "id": "u1LIUgoJ_G3y"
      },
      "source": [
        "##*Resolve Missing Values*"
      ]
    },
    {
      "cell_type": "code",
      "execution_count": null,
      "metadata": {
        "id": "3YtNCIbsAY1C"
      },
      "outputs": [],
      "source": [
        "# Delete 'Lead Number' as it is an index\n",
        "if 'Lead Number' in df.columns:\n",
        "  df = df.drop(['Lead Number'],axis=1)"
      ]
    },
    {
      "cell_type": "code",
      "execution_count": null,
      "metadata": {
        "colab": {
          "base_uri": "https://localhost:8080/"
        },
        "id": "xlhVqijLiiZA",
        "outputId": "5ab313e2-eaf3-49bf-e23b-221eabff7167"
      },
      "outputs": [
        {
          "name": "stdout",
          "output_type": "stream",
          "text": [
            "count       9204\n",
            "unique        21\n",
            "top       Google\n",
            "freq        2868\n",
            "Name: Lead Source, dtype: object\n",
            "\n",
            "\n",
            " count    9103.000000\n",
            "mean        3.445238\n",
            "std         4.854853\n",
            "min         0.000000\n",
            "25%         1.000000\n",
            "50%         3.000000\n",
            "75%         5.000000\n",
            "max       251.000000\n",
            "Name: TotalVisits, dtype: float64\n",
            "\n",
            "\n",
            " count    9103.000000\n",
            "mean        2.362820\n",
            "std         2.161418\n",
            "min         0.000000\n",
            "25%         1.000000\n",
            "50%         2.000000\n",
            "75%         3.000000\n",
            "max        55.000000\n",
            "Name: Page Views Per Visit, dtype: float64\n",
            "\n",
            "\n",
            " count             9137\n",
            "unique              17\n",
            "top       Email Opened\n",
            "freq              3437\n",
            "Name: Last Activity, dtype: object\n",
            "\n",
            "\n",
            "Missing Values\n",
            " Lead Origin                                         0\n",
            "Lead Source                                         0\n",
            "Do Not Email                                        0\n",
            "Do Not Call                                         0\n",
            "Converted                                           0\n",
            "TotalVisits                                         0\n",
            "Total Time Spent on Website                         0\n",
            "Page Views Per Visit                                0\n",
            "Last Activity                                       0\n",
            "Country                                             0\n",
            "Specialization                                      0\n",
            "How did you hear about X Education               7250\n",
            "What is your current occupation                     0\n",
            "What matters most to you in choosing a course    2709\n",
            "Search                                              0\n",
            "Magazine                                            0\n",
            "Newspaper Article                                   0\n",
            "X Education Forums                                  0\n",
            "Newspaper                                           0\n",
            "Digital Advertisement                               0\n",
            "Through Recommendations                             0\n",
            "Receive More Updates About Our Courses              0\n",
            "Tags                                                0\n",
            "Lead Quality                                        0\n",
            "Update me on Supply Chain Content                   0\n",
            "Get updates on DM Content                           0\n",
            "Lead Profile                                     6855\n",
            "City                                             3669\n",
            "Asymmetrique Activity Index                      4218\n",
            "Asymmetrique Profile Index                       4218\n",
            "Asymmetrique Activity Score                      4218\n",
            "Asymmetrique Profile Score                       4218\n",
            "I agree to pay the amount through cheque            0\n",
            "A free copy of Mastering The Interview              0\n",
            "Last Notable Activity                               0\n",
            "dtype: int64\n"
          ]
        }
      ],
      "source": [
        "# Correct NaN's in features with a small number of missing values\n",
        "# Fixing NaNs in 'Lead Source'\n",
        "print(df['Lead Source'].describe())\n",
        "df['Lead Source'] = df['Lead Source'].replace(np.nan, 'Google')\n",
        "\n",
        "# Fixing NaNs in 'TotalVisits'\n",
        "print('\\n\\n',df['TotalVisits'].describe())\n",
        "df['TotalVisits'] = df['TotalVisits'].replace(np.nan, 3)\n",
        "\n",
        "# Fixing NaNs in 'Page Views Per Visit'\n",
        "print('\\n\\n',df['Page Views Per Visit'].describe())\n",
        "df['Page Views Per Visit'] = df['Page Views Per Visit'].replace(np.nan, 2)\n",
        "\n",
        "# Fixing NaNs in 'Last Activity'\n",
        "print('\\n\\n',df['Last Activity'].describe())\n",
        "df['Last Activity'] = df['Last Activity'].replace(np.nan, 'Email Opened')\n",
        "\n",
        "# Check for missing values\n",
        "print('\\n\\nMissing Values\\n',df.isnull().sum(axis=0))"
      ]
    },
    {
      "cell_type": "code",
      "execution_count": null,
      "metadata": {
        "id": "igLgNdF_LE6A"
      },
      "outputs": [],
      "source": [
        "# Treat NaNs in 'City' with \"No City\" label\n",
        "df = df.replace(np.NaN, \"No City\")"
      ]
    },
    {
      "cell_type": "code",
      "execution_count": null,
      "metadata": {
        "id": "AK1m8-v1aRXC"
      },
      "outputs": [],
      "source": [
        "# Delete features wih more than 50% NaNs: 'How did you hear about X Education', 'Lead Profile', 'Asymmetrique Activity Index', 'Asymmetrique Activity Score', 'Asymmetrique Profile Index', and 'Asymmetrique Profile Score' as there are too many missing values in those features\n",
        "if 'How did you hear about X Education' in df.columns:\n",
        "  df = df.drop(['How did you hear about X Education'],axis=1)\n",
        "if 'Lead Profile' in df.columns:\n",
        "  df = df.drop(['Lead Profile'],axis=1)\n",
        "if 'Asymmetrique Activity Index' in df.columns:\n",
        "  df = df.drop(['Asymmetrique Activity Index'],axis=1)\n",
        "if 'Asymmetrique Activity Score' in df.columns:\n",
        "  df = df.drop(['Asymmetrique Activity Score'],axis=1)\n",
        "if 'Asymmetrique Profile Index' in df.columns:\n",
        "  df = df.drop(['Asymmetrique Profile Index'],axis=1)\n",
        "if 'Asymmetrique Profile Score' in df.columns:\n",
        "  df = df.drop(['Asymmetrique Profile Score'],axis=1)"
      ]
    },
    {
      "cell_type": "code",
      "execution_count": null,
      "metadata": {
        "id": "AiQuvFj4ZUtt"
      },
      "outputs": [],
      "source": [
        "# Consolidate rare values in selected features into \"Other\" category\n",
        "\n",
        "# Lead Origin\n",
        "df['Lead Origin'] = df['Lead Origin'].replace(['Quick Add Form'], 'Lead Add Form')\n",
        "\n",
        "# Column: Lead Source\n",
        "df['Lead Source'] = df['Lead Source'].replace(['google'], 'Google')\n",
        "df['Lead Source'] = df['Lead Source'].replace(['bing', 'Click2call', 'Live Chat', 'NC_EDM', 'Pay per Click Ads', 'Press_Release',\n",
        "  'Social Media', 'WeLearn', 'blog', 'youtubechannel','testone', 'welearnblog_Home','Other'], 'Other')\n",
        "\n",
        "# Column: What is your current occupation\n",
        "df['What is your current occupation'] = df['What is your current occupation'].replace(['Housewife','Businessman','Other'], 'Other')\n",
        "\n",
        "# Column: Last Activity\n",
        "df['Last Activity'] = df['Last Activity'].replace(['Unreachable','Unsubscribed','Had a Phone Conversation',\n",
        "                                                   'View in browser link Clicked','Visited Booth in Tradeshow', 'Approached upfront',\n",
        "                                                   'Resubscribed to emails','Email Received', 'Email Marked Spam','Other'], 'Other')\n",
        "\n",
        "#Column: Last Notable Activity\n",
        "df['Last Notable Activity'] = df['Last Notable Activity'].replace(['Unsubscribed','Unreachable', 'Email Bounced', 'Unsubscribed' 'Unreachable', 'Had a Phone Conversation', 'Email Marked Spam',\n",
        "                                  'Email Received', 'Form Submitted on Website', 'View in browser link Clicked',\n",
        "                                  'Resubscribed to emails', 'Approached upfront','Other'], 'Other')\n",
        "\n",
        "# Column: Tags\n",
        "df['Tags'] = df['Tags'].replace(['invalid number', 'wrong number given', 'In confusion whether part time or DLP', 'in touch with EINS','Diploma holder (Not Eligible)',\n",
        "                                     'Approached upfront','Graduation in progress','number not provided', 'opp hangup','Still Thinking',\n",
        "                                    'Lost to Others','Shall take in the next coming month','Lateral student','Interested in Next batch',\n",
        "                                    'Recognition issue (DEC approval)','Want to take admission but has financial problems',\n",
        "                                    'University not recognized','Other'], 'Other')\n",
        "\n"
      ]
    },
    {
      "cell_type": "code",
      "execution_count": null,
      "metadata": {
        "id": "a1BZZduDb2Fg"
      },
      "outputs": [],
      "source": [
        "# Delete columns that have one extremely dominant value\n",
        "if 'Get updates on DM Content ' in df.columns:\n",
        "  df = df.drop(['Get updates on DM Content'],axis=1)\n",
        "if 'I agree to pay the amount through cheque' in df.columns:\n",
        "  df = df.drop(['I agree to pay the amount through cheque'],axis=1)\n",
        "if 'Update me on Supply Chain Content' in df.columns:\n",
        "  df = df.drop(['Update me on Supply Chain Content'],axis=1)\n",
        "if 'Receive More Updates About Our Courses' in df.columns:\n",
        "  df = df.drop(['Receive More Updates About Our Courses'],axis=1)\n",
        "if 'Do Not Call' in df.columns:\n",
        "  df = df.drop(['Do Not Call'],axis=1)\n",
        "if 'Newspaper' in df.columns:\n",
        "  df = df.drop(['Newspaper'],axis=1)\n",
        "if 'Get updates on DM Content' in df.columns:\n",
        "  df = df.drop(['Get updates on DM Content'],axis=1)\n",
        "if 'Newspaper Article' in df.columns:\n",
        "  df = df.drop(['Newspaper Article'],axis=1)\n",
        "if 'Magazine' in df.columns:\n",
        "  df = df.drop(['Magazine'],axis=1)\n",
        "if 'Receive More Updates About Our Courses' in df.columns:\n",
        "  df = df.drop(['Receive More Updates About Our Courses'],axis=1)\n",
        "if 'What matters most to you in choosing a course' in df.columns:\n",
        "  df = df.drop(['What matters most to you in choosing a course'],axis=1)\n",
        "if 'X Education Forum' in df.columns:\n",
        "  df = df.drop(['X Education Forum'],axis=1)\n",
        "if 'Search' in df.columns:\n",
        "  df = df.drop(['Search'],axis=1)\n",
        "if 'Through Recommendations' in df.columns:\n",
        "  df = df.drop(['Through Recommendations'],axis=1)\n",
        "if 'Digital Advertisement' in df.columns:\n",
        "  df = df.drop(['Digital Advertisement'],axis=1)\n",
        "if 'X Education Forums' in df.columns:\n",
        "  df = df.drop(['X Education Forums'],axis=1)\n",
        "if 'Country' in df.columns:\n",
        "  df = df.drop(['Country'],axis=1)"
      ]
    },
    {
      "cell_type": "markdown",
      "metadata": {
        "id": "4nIHwN32q08o"
      },
      "source": [
        "##*Encodings*"
      ]
    },
    {
      "cell_type": "code",
      "execution_count": null,
      "metadata": {
        "id": "isl41-dDVILs"
      },
      "outputs": [],
      "source": [
        "# One-Hot Encode Categorical Variables (except 'City')\n",
        "df = pd.get_dummies(data=df, columns=['Lead Origin', 'Lead Source', 'Do Not Email',\n",
        "       'Last Activity', 'Specialization', 'What is your current occupation',\n",
        "       'Tags', 'Lead Quality', 'City',\n",
        "       'A free copy of Mastering The Interview', 'Last Notable Activity'],drop_first=True)\n",
        ""
      ]
    },
    {
      "cell_type": "markdown",
      "metadata": {
        "id": "5z6fBJQjfu4t"
      },
      "source": [
        "##*Outliers*"
      ]
    },
    {
      "cell_type": "code",
      "execution_count": null,
      "metadata": {
        "colab": {
          "base_uri": "https://localhost:8080/"
        },
        "id": "opWx2mG8f_IQ",
        "outputId": "a59aa7cc-f165-45ed-b09f-6f44403ef771"
      },
      "outputs": [
        {
          "name": "stdout",
          "output_type": "stream",
          "text": [
            "TotalVisits [ 0. 10.] \n",
            "\n",
            "\n",
            "Total Time Spent on Website [   0. 1562.] \n",
            "\n",
            "\n",
            "Page Views Per Visit [0. 6.] \n",
            "\n",
            "\n"
          ]
        },
        {
          "name": "stderr",
          "output_type": "stream",
          "text": [
            "/usr/local/lib/python3.7/dist-packages/ipykernel_launcher.py:5: SettingWithCopyWarning: \n",
            "A value is trying to be set on a copy of a slice from a DataFrame\n",
            "\n",
            "See the caveats in the documentation: https://pandas.pydata.org/pandas-docs/stable/user_guide/indexing.html#returning-a-view-versus-a-copy\n",
            "  \"\"\"\n",
            "/usr/local/lib/python3.7/dist-packages/ipykernel_launcher.py:6: SettingWithCopyWarning: \n",
            "A value is trying to be set on a copy of a slice from a DataFrame\n",
            "\n",
            "See the caveats in the documentation: https://pandas.pydata.org/pandas-docs/stable/user_guide/indexing.html#returning-a-view-versus-a-copy\n",
            "  \n"
          ]
        }
      ],
      "source": [
        "# Address outliers in quant varianbles\n",
        "for i in ['TotalVisits','Total Time Spent on Website','Page Views Per Visit']:\n",
        "  quantiles = df[i].quantile([0.05,0.95]).values\n",
        "  print(i,quantiles,'\\n\\n')\n",
        "  df[i][df[i] <= quantiles[0]] = quantiles[0]\n",
        "  df[i][df[i] >= quantiles[1]] = quantiles[1]"
      ]
    },
    {
      "cell_type": "markdown",
      "metadata": {
        "id": "lu_jChnIdPFS"
      },
      "source": [
        "##*Set Up Predictors & Target*"
      ]
    },
    {
      "cell_type": "code",
      "execution_count": null,
      "metadata": {
        "id": "Z-lKpLBfdOub"
      },
      "outputs": [],
      "source": [
        "# Split features into X1 (quant features), X2 (qual features) and y (target)\n",
        "# Identify predictors & target\n",
        "X = df.drop(['Converted'], axis=1)\n",
        "y = df['Converted']"
      ]
    },
    {
      "cell_type": "code",
      "execution_count": null,
      "metadata": {
        "id": "dr2ZbwAU1iYy"
      },
      "outputs": [],
      "source": [
        "X_train, X_test, y_train, y_test = train_test_split(X, y, test_size=0.25, random_state=54321, stratify=y)"
      ]
    },
    {
      "cell_type": "code",
      "execution_count": null,
      "metadata": {
        "colab": {
          "base_uri": "https://localhost:8080/"
        },
        "id": "ispzTRJ118XI",
        "outputId": "9fd2640e-ebab-4b35-b234-fdd1c50db746"
      },
      "outputs": [
        {
          "name": "stdout",
          "output_type": "stream",
          "text": [
            "imblearn version:  0.8.1\n",
            "Shape before SMOTE:  (6930, 71) (6930,) \n",
            "\n",
            "Shape after SMOTE:  (8518, 71) (8518,) \n",
            "\n"
          ]
        }
      ],
      "source": [
        "# SMOTE (oversampling)\n",
        "# Data is unbalanced (38.54% converted instances)\n",
        "\n",
        "import imblearn\n",
        "print(\"imblearn version: \", imblearn.__version__)\n",
        "\n",
        "from imblearn.over_sampling import SMOTE\n",
        "\n",
        "sm = SMOTE(random_state=12346)\n",
        "X_train_SMOTE, y_train_SMOTE = sm.fit_resample(X_train, y_train)\n",
        "\n",
        "print(\"Shape before SMOTE: \", X_train.shape, y_train.shape, \"\\n\")\n",
        "print(\"Shape after SMOTE: \", X_train_SMOTE.shape, y_train_SMOTE.shape, \"\\n\")"
      ]
    },
    {
      "cell_type": "code",
      "execution_count": null,
      "metadata": {
        "id": "u9Aakl4z2O6y"
      },
      "outputs": [],
      "source": [
        "# Standardization z-score  (https://scikit-learn.org/stable/modules/generated/sklearn.preprocessing.StandardScaler.html#sklearn.preprocessing.StandardScaler)\n",
        "# from sklearn.preprocessing import StandardScaler\n",
        "stdsc = StandardScaler()\n",
        "X_train_SMOTE_std = stdsc.fit_transform(X_train_SMOTE)\n",
        "X_test_std = stdsc.transform(X_test)"
      ]
    },
    {
      "cell_type": "markdown",
      "metadata": {
        "id": "EJvwKRrp6kn4"
      },
      "source": [
        "#**Auto-Sklearn**\n"
      ]
    },
    {
      "cell_type": "code",
      "execution_count": null,
      "metadata": {
        "colab": {
          "base_uri": "https://localhost:8080/"
        },
        "id": "AQE5duqT7f0_",
        "outputId": "ea2af1ea-19b7-4e5b-e4d8-bcd916511eef"
      },
      "outputs": [
        {
          "name": "stdout",
          "output_type": "stream",
          "text": [
            "auto-sklearn results:\n",
            "  Dataset name: d4e316d8-d2bf-11ec-929b-0242ac1c0002\n",
            "  Metric: roc_auc\n",
            "  Best validation score: 0.981001\n",
            "  Number of target algorithm runs: 32\n",
            "  Number of successful target algorithm runs: 20\n",
            "  Number of crashed target algorithm runs: 0\n",
            "  Number of target algorithms that exceeded the time limit: 8\n",
            "  Number of target algorithms that exceeded the memory limit: 4\n",
            "\n",
            "AUC: 0.9177124545022947\n",
            "Accuracy: 0.9177124545022947\n"
          ]
        }
      ],
      "source": [
        "# Create Auto-Sklearn model and report performance\n",
        "# regr = AutoSklearnRegressor(time_left_for_this_task=5*60, per_run_time_limit=30, n_jobs=-1,ensemble_size=1, initial_configurations_via_metalearning=0)  #Use this instance if you want to suppress the ensemble\n",
        "clf = autosklearn.classification.AutoSklearnClassifier(time_left_for_this_task=5*60, per_run_time_limit=30, n_jobs=-1,metric = autosklearn.metrics.roc_auc)\n",
        "clf.fit(X_train_SMOTE_std, y_train_SMOTE)\n",
        "# summarize\n",
        "print(clf.sprint_statistics())\n",
        "# evaluate best model\n",
        "y_pred = clf.predict(X_test_std)\n",
        "print(f'AUC: {roc_auc_score(y_test, y_pred)}')\n",
        "print(f'Accuracy: {clf.score(X_test_std, y_test)}')"
      ]
    },
    {
      "cell_type": "code",
      "execution_count": null,
      "metadata": {
        "colab": {
          "base_uri": "https://localhost:8080/"
        },
        "id": "LhbR_s5o7GN7",
        "outputId": "4fe60c67-9456-4c1d-9f44-b1f10a34a2fa"
      },
      "outputs": [
        {
          "name": "stdout",
          "output_type": "stream",
          "text": [
            "          rank  ensemble_weight               type      cost   duration\n",
            "model_id                                                               \n",
            "2            1             0.08      random_forest  0.018999  22.198660\n",
            "14           2             0.10                mlp  0.021526   9.688730\n",
            "17           3             0.04        extra_trees  0.022035  15.318071\n",
            "13           4             0.08                mlp  0.022481  11.936097\n",
            "22           5             0.06  gradient_boosting  0.025366  20.627069\n",
            "27           6             0.02                mlp  0.026592  21.992072\n",
            "4            7             0.10         libsvm_svc  0.027548  21.762091\n",
            "20           8             0.02                mlp  0.027700   8.951847\n",
            "8            9             0.06  gradient_boosting  0.032794   7.837516\n",
            "28          10             0.40                sgd  0.050898   4.786186\n",
            "24          11             0.02        extra_trees  0.052547  12.003972\n",
            "30          12             0.02        gaussian_nb  0.062242   2.669772\n",
            "{2: {'model_id': 2, 'rank': 1, 'cost': 0.018999407723887973, 'ensemble_weight': 0.08, 'data_preprocessor': <autosklearn.pipeline.components.data_preprocessing.DataPreprocessorChoice object at 0x7fd760478410>, 'balancing': Balancing(random_state=1), 'feature_preprocessor': <autosklearn.pipeline.components.feature_preprocessing.FeaturePreprocessorChoice object at 0x7fd763d9ab10>, 'classifier': <autosklearn.pipeline.components.classification.ClassifierChoice object at 0x7fd763d9a7d0>, 'sklearn_classifier': RandomForestClassifier(max_features=8, n_estimators=512, n_jobs=1,\n",
            "                       random_state=1, warm_start=True)}, 14: {'model_id': 14, 'rank': 2, 'cost': 0.021525693140227786, 'ensemble_weight': 0.1, 'data_preprocessor': <autosklearn.pipeline.components.data_preprocessing.DataPreprocessorChoice object at 0x7fd760478950>, 'balancing': Balancing(random_state=1), 'feature_preprocessor': <autosklearn.pipeline.components.feature_preprocessing.FeaturePreprocessorChoice object at 0x7fd7606a8cd0>, 'classifier': <autosklearn.pipeline.components.classification.ClassifierChoice object at 0x7fd7606a8f90>, 'sklearn_classifier': MLPClassifier(alpha=1.11719173940044e-07, beta_1=0.999, beta_2=0.9,\n",
            "              early_stopping=True, hidden_layer_sizes=(152,),\n",
            "              learning_rate_init=0.0008779286391819998, max_iter=64,\n",
            "              n_iter_no_change=32, random_state=1, verbose=0, warm_start=True)}, 17: {'model_id': 17, 'rank': 3, 'cost': 0.02203494935279926, 'ensemble_weight': 0.04, 'data_preprocessor': <autosklearn.pipeline.components.data_preprocessing.DataPreprocessorChoice object at 0x7fd7608f6650>, 'balancing': Balancing(random_state=1), 'feature_preprocessor': <autosklearn.pipeline.components.feature_preprocessing.FeaturePreprocessorChoice object at 0x7fd760738b10>, 'classifier': <autosklearn.pipeline.components.classification.ClassifierChoice object at 0x7fd760240350>, 'sklearn_classifier': ExtraTreesClassifier(bootstrap=True, criterion='entropy', max_features=7,\n",
            "                     min_samples_leaf=6, min_samples_split=11, n_estimators=512,\n",
            "                     n_jobs=1, random_state=1, warm_start=True)}, 13: {'model_id': 13, 'rank': 4, 'cost': 0.022480928202973538, 'ensemble_weight': 0.08, 'data_preprocessor': <autosklearn.pipeline.components.data_preprocessing.DataPreprocessorChoice object at 0x7fd75fe05290>, 'balancing': Balancing(random_state=1, strategy='weighting'), 'feature_preprocessor': <autosklearn.pipeline.components.feature_preprocessing.FeaturePreprocessorChoice object at 0x7fd76061d4d0>, 'classifier': <autosklearn.pipeline.components.classification.ClassifierChoice object at 0x7fd7601e3550>, 'sklearn_classifier': MLPClassifier(alpha=4.894275544558977e-05, beta_1=0.999, beta_2=0.9,\n",
            "              hidden_layer_sizes=(31,),\n",
            "              learning_rate_init=0.0012413632713795164, max_iter=128,\n",
            "              n_iter_no_change=32, random_state=1, validation_fraction=0.0,\n",
            "              verbose=0, warm_start=True)}, 22: {'model_id': 22, 'rank': 5, 'cost': 0.025365869709379818, 'ensemble_weight': 0.06, 'data_preprocessor': <autosklearn.pipeline.components.data_preprocessing.DataPreprocessorChoice object at 0x7fd760240750>, 'balancing': Balancing(random_state=1), 'feature_preprocessor': <autosklearn.pipeline.components.feature_preprocessing.FeaturePreprocessorChoice object at 0x7fd76091dc10>, 'classifier': <autosklearn.pipeline.components.classification.ClassifierChoice object at 0x7fd76091dcd0>, 'sklearn_classifier': HistGradientBoostingClassifier(early_stopping=False, l2_regularization=1e-10,\n",
            "                               learning_rate=0.16262682406125173, max_iter=512,\n",
            "                               max_leaf_nodes=66, n_iter_no_change=0,\n",
            "                               random_state=1, validation_fraction=None,\n",
            "                               warm_start=True)}, 27: {'model_id': 27, 'rank': 6, 'cost': 0.026592184992634493, 'ensemble_weight': 0.02, 'data_preprocessor': <autosklearn.pipeline.components.data_preprocessing.DataPreprocessorChoice object at 0x7fd76007f250>, 'balancing': Balancing(random_state=1), 'feature_preprocessor': <autosklearn.pipeline.components.feature_preprocessing.FeaturePreprocessorChoice object at 0x7fd760637850>, 'classifier': <autosklearn.pipeline.components.classification.ClassifierChoice object at 0x7fd76008a290>, 'sklearn_classifier': MLPClassifier(alpha=9.327661311193449e-05, beta_1=0.999, beta_2=0.9,\n",
            "              hidden_layer_sizes=(261,),\n",
            "              learning_rate_init=0.0009631165680776162, max_iter=128,\n",
            "              n_iter_no_change=32, random_state=1, validation_fraction=0.0,\n",
            "              verbose=0, warm_start=True)}, 4: {'model_id': 4, 'rank': 7, 'cost': 0.02754817938372911, 'ensemble_weight': 0.1, 'data_preprocessor': <autosklearn.pipeline.components.data_preprocessing.DataPreprocessorChoice object at 0x7fd75fdfdd50>, 'balancing': Balancing(random_state=1), 'feature_preprocessor': <autosklearn.pipeline.components.feature_preprocessing.FeaturePreprocessorChoice object at 0x7fd75dfc72d0>, 'classifier': <autosklearn.pipeline.components.classification.ClassifierChoice object at 0x7fd75dfc7890>, 'sklearn_classifier': SVC(C=0.0760373266174924, cache_size=1941.8828125, gamma=0.2656198344928433,\n",
            "    max_iter=-1.0, random_state=1, tol=0.007144596220059311)}, 20: {'model_id': 20, 'rank': 8, 'cost': 0.027700045053481892, 'ensemble_weight': 0.02, 'data_preprocessor': <autosklearn.pipeline.components.data_preprocessing.DataPreprocessorChoice object at 0x7fd75e2dbb90>, 'balancing': Balancing(random_state=1), 'feature_preprocessor': <autosklearn.pipeline.components.feature_preprocessing.FeaturePreprocessorChoice object at 0x7fd75fc99bd0>, 'classifier': <autosklearn.pipeline.components.classification.ClassifierChoice object at 0x7fd75fc99e90>, 'sklearn_classifier': MLPClassifier(activation='tanh', alpha=0.006895731239260888, beta_1=0.999,\n",
            "              beta_2=0.9, early_stopping=True, hidden_layer_sizes=(24, 24, 24),\n",
            "              learning_rate_init=0.01185025708779375, max_iter=32,\n",
            "              n_iter_no_change=32, random_state=1, verbose=0, warm_start=True)}, 8: {'model_id': 8, 'rank': 9, 'cost': 0.032793619616994896, 'ensemble_weight': 0.06, 'data_preprocessor': <autosklearn.pipeline.components.data_preprocessing.DataPreprocessorChoice object at 0x7fd75fdf7f90>, 'balancing': Balancing(random_state=1, strategy='weighting'), 'feature_preprocessor': <autosklearn.pipeline.components.feature_preprocessing.FeaturePreprocessorChoice object at 0x7fd75f9e2ad0>, 'classifier': <autosklearn.pipeline.components.classification.ClassifierChoice object at 0x7fd75dd3a890>, 'sklearn_classifier': HistGradientBoostingClassifier(early_stopping=False,\n",
            "                               l2_regularization=2.899196756050855e-09,\n",
            "                               learning_rate=0.19299164940622357, max_iter=512,\n",
            "                               max_leaf_nodes=1816, min_samples_leaf=162,\n",
            "                               n_iter_no_change=0, random_state=1,\n",
            "                               validation_fraction=None, warm_start=True)}, 28: {'model_id': 28, 'rank': 10, 'cost': 0.05089777921768934, 'ensemble_weight': 0.4, 'data_preprocessor': <autosklearn.pipeline.components.data_preprocessing.DataPreprocessorChoice object at 0x7fd75fcd0710>, 'balancing': Balancing(random_state=1), 'feature_preprocessor': <autosklearn.pipeline.components.feature_preprocessing.FeaturePreprocessorChoice object at 0x7fd75fa56550>, 'classifier': <autosklearn.pipeline.components.classification.ClassifierChoice object at 0x7fd75fa56cd0>, 'sklearn_classifier': SGDClassifier(alpha=0.00037974327881828355, eta0=0.0005871722328219883,\n",
            "              l1_ratio=0.011921493797200835, learning_rate='invscaling',\n",
            "              loss='log', max_iter=16, penalty='elasticnet',\n",
            "              power_t=0.6238562783414978, random_state=1,\n",
            "              tol=0.07748726544422888, warm_start=True)}, 24: {'model_id': 24, 'rank': 11, 'cost': 0.052546534172306814, 'ensemble_weight': 0.02, 'data_preprocessor': <autosklearn.pipeline.components.data_preprocessing.DataPreprocessorChoice object at 0x7fd75fa28950>, 'balancing': Balancing(random_state=1, strategy='weighting'), 'feature_preprocessor': <autosklearn.pipeline.components.feature_preprocessing.FeaturePreprocessorChoice object at 0x7fd75d94fad0>, 'classifier': <autosklearn.pipeline.components.classification.ClassifierChoice object at 0x7fd75d977590>, 'sklearn_classifier': ExtraTreesClassifier(criterion='entropy', max_features=3, n_estimators=512,\n",
            "                     n_jobs=1, random_state=1, warm_start=True)}, 30: {'model_id': 30, 'rank': 12, 'cost': 0.06224163852933273, 'ensemble_weight': 0.02, 'data_preprocessor': <autosklearn.pipeline.components.data_preprocessing.DataPreprocessorChoice object at 0x7fd75dd3c7d0>, 'balancing': Balancing(random_state=1), 'feature_preprocessor': <autosklearn.pipeline.components.feature_preprocessing.FeaturePreprocessorChoice object at 0x7fd75dcd3fd0>, 'classifier': <autosklearn.pipeline.components.classification.ClassifierChoice object at 0x7fd75d960450>, 'sklearn_classifier': GaussianNB()}}\n"
          ]
        }
      ],
      "source": [
        "# Show the Auto-Sklearn leaderboard and final model\n",
        "print(clf.leaderboard()) # Leaderboard\n",
        "print(clf.show_models())  # Final model"
      ]
    },
    {
      "cell_type": "code",
      "execution_count": null,
      "metadata": {
        "colab": {
          "base_uri": "https://localhost:8080/",
          "height": 771
        },
        "id": "_pVRAl285DFc",
        "outputId": "ea8fcb71-d09e-43d2-d6fd-5d63d65fe332"
      },
      "outputs": [
        {
          "data": {
            "image/png": "[encoded data removed]",
            "text/plain": [
              "<Figure size 432x288 with 1 Axes>"
            ]
          },
          "metadata": {},
          "output_type": "display_data"
        },
        {
          "name": "stdout",
          "output_type": "stream",
          "text": [
            "Analysis: 80% of first 846  instances rank-ordered by propensity are positive actuals in test dataset of size  2310\n",
            "Percentage of rank-ordered data to take as leads:  36.62337662337662\n",
            "LEADS:\n",
            "\n"
          ]
        },
        {
          "data": {
            "text/html": [
              "\n",
              "  <div id=\"df-e4888476-4465-40c4-8c66-4c7387c9ab05\">\n",
              "    <div class=\"colab-df-container\">\n",
              "      <div>\n",
              "<style scoped>\n",
              "    .dataframe tbody tr th:only-of-type {\n",
              "        vertical-align: middle;\n",
              "    }\n",
              "\n",
              "    .dataframe tbody tr th {\n",
              "        vertical-align: top;\n",
              "    }\n",
              "\n",
              "    .dataframe thead th {\n",
              "        text-align: right;\n",
              "    }\n",
              "</style>\n",
              "<table border=\"1\" class=\"dataframe\">\n",
              "  <thead>\n",
              "    <tr style=\"text-align: right;\">\n",
              "      <th></th>\n",
              "      <th>Actual</th>\n",
              "      <th>Predicted</th>\n",
              "      <th>Propensity</th>\n",
              "    </tr>\n",
              "  </thead>\n",
              "  <tbody>\n",
              "    <tr>\n",
              "      <th>0</th>\n",
              "      <td>1</td>\n",
              "      <td>1</td>\n",
              "      <td>0.817726</td>\n",
              "    </tr>\n",
              "    <tr>\n",
              "      <th>1</th>\n",
              "      <td>1</td>\n",
              "      <td>1</td>\n",
              "      <td>0.817726</td>\n",
              "    </tr>\n",
              "    <tr>\n",
              "      <th>2</th>\n",
              "      <td>1</td>\n",
              "      <td>1</td>\n",
              "      <td>0.816569</td>\n",
              "    </tr>\n",
              "    <tr>\n",
              "      <th>3</th>\n",
              "      <td>1</td>\n",
              "      <td>1</td>\n",
              "      <td>0.816569</td>\n",
              "    </tr>\n",
              "    <tr>\n",
              "      <th>4</th>\n",
              "      <td>1</td>\n",
              "      <td>1</td>\n",
              "      <td>0.816569</td>\n",
              "    </tr>\n",
              "    <tr>\n",
              "      <th>...</th>\n",
              "      <td>...</td>\n",
              "      <td>...</td>\n",
              "      <td>...</td>\n",
              "    </tr>\n",
              "    <tr>\n",
              "      <th>842</th>\n",
              "      <td>0</td>\n",
              "      <td>0</td>\n",
              "      <td>0.492739</td>\n",
              "    </tr>\n",
              "    <tr>\n",
              "      <th>843</th>\n",
              "      <td>1</td>\n",
              "      <td>0</td>\n",
              "      <td>0.492339</td>\n",
              "    </tr>\n",
              "    <tr>\n",
              "      <th>844</th>\n",
              "      <td>1</td>\n",
              "      <td>0</td>\n",
              "      <td>0.491535</td>\n",
              "    </tr>\n",
              "    <tr>\n",
              "      <th>845</th>\n",
              "      <td>0</td>\n",
              "      <td>0</td>\n",
              "      <td>0.491308</td>\n",
              "    </tr>\n",
              "    <tr>\n",
              "      <th>846</th>\n",
              "      <td>0</td>\n",
              "      <td>0</td>\n",
              "      <td>0.490718</td>\n",
              "    </tr>\n",
              "  </tbody>\n",
              "</table>\n",
              "<p>847 rows × 3 columns</p>\n",
              "</div>\n",
              "      <button class=\"colab-df-convert\" onclick=\"convertToInteractive('df-e4888476-4465-40c4-8c66-4c7387c9ab05')\"\n",
              "              title=\"Convert this dataframe to an interactive table.\"\n",
              "              style=\"display:none;\">\n",
              "        \n",
              "  <svg xmlns=\"http://www.w3.org/2000/svg\" height=\"24px\"viewBox=\"0 0 24 24\"\n",
              "       width=\"24px\">\n",
              "    <path d=\"M0 0h24v24H0V0z\" fill=\"none\"/>\n",
              "    <path d=\"M18.56 5.44l.94 2.06.94-2.06 2.06-.94-2.06-.94-.94-2.06-.94 2.06-2.06.94zm-11 1L8.5 8.5l.94-2.06 2.06-.94-2.06-.94L8.5 2.5l-.94 2.06-2.06.94zm10 10l.94 2.06.94-2.06 2.06-.94-2.06-.94-.94-2.06-.94 2.06-2.06.94z\"/><path d=\"M17.41 7.96l-1.37-1.37c-.4-.4-.92-.59-1.43-.59-.52 0-1.04.2-1.43.59L10.3 9.45l-7.72 7.72c-.78.78-.78 2.05 0 2.83L4 21.41c.39.39.9.59 1.41.59.51 0 1.02-.2 1.41-.59l7.78-7.78 2.81-2.81c.8-.78.8-2.07 0-2.86zM5.41 20L4 18.59l7.72-7.72 1.47 1.35L5.41 20z\"/>\n",
              "  </svg>\n",
              "      </button>\n",
              "      \n",
              "  <style>\n",
              "    .colab-df-container {\n",
              "      display:flex;\n",
              "      flex-wrap:wrap;\n",
              "      gap: 12px;\n",
              "    }\n",
              "\n",
              "    .colab-df-convert {\n",
              "      background-color: #E8F0FE;\n",
              "      border: none;\n",
              "      border-radius: 50%;\n",
              "      cursor: pointer;\n",
              "      display: none;\n",
              "      fill: #1967D2;\n",
              "      height: 32px;\n",
              "      padding: 0 0 0 0;\n",
              "      width: 32px;\n",
              "    }\n",
              "\n",
              "    .colab-df-convert:hover {\n",
              "      background-color: #E2EBFA;\n",
              "      box-shadow: 0px 1px 2px rgba(60, 64, 67, 0.3), 0px 1px 3px 1px rgba(60, 64, 67, 0.15);\n",
              "      fill: #174EA6;\n",
              "    }\n",
              "\n",
              "    [theme=dark] .colab-df-convert {\n",
              "      background-color: #3B4455;\n",
              "      fill: #D2E3FC;\n",
              "    }\n",
              "\n",
              "    [theme=dark] .colab-df-convert:hover {\n",
              "      background-color: #434B5C;\n",
              "      box-shadow: 0px 1px 3px 1px rgba(0, 0, 0, 0.15);\n",
              "      filter: drop-shadow(0px 1px 2px rgba(0, 0, 0, 0.3));\n",
              "      fill: #FFFFFF;\n",
              "    }\n",
              "  </style>\n",
              "\n",
              "      <script>\n",
              "        const buttonEl =\n",
              "          document.querySelector('#df-e4888476-4465-40c4-8c66-4c7387c9ab05 button.colab-df-convert');\n",
              "        buttonEl.style.display =\n",
              "          google.colab.kernel.accessAllowed ? 'block' : 'none';\n",
              "\n",
              "        async function convertToInteractive(key) {\n",
              "          const element = document.querySelector('#df-e4888476-4465-40c4-8c66-4c7387c9ab05');\n",
              "          const dataTable =\n",
              "            await google.colab.kernel.invokeFunction('convertToInteractive',\n",
              "                                                     [key], {});\n",
              "          if (!dataTable) return;\n",
              "\n",
              "          const docLinkHtml = 'Like what you see? Visit the ' +\n",
              "            '<a target=\"_blank\" href=https://colab.research.google.com/notebooks/data_table.ipynb>data table notebook</a>'\n",
              "            + ' to learn more about interactive tables.';\n",
              "          element.innerHTML = '';\n",
              "          dataTable['output_type'] = 'display_data';\n",
              "          await google.colab.output.renderOutput(dataTable, element);\n",
              "          const docLink = document.createElement('div');\n",
              "          docLink.innerHTML = docLinkHtml;\n",
              "          element.appendChild(docLink);\n",
              "        }\n",
              "      </script>\n",
              "    </div>\n",
              "  </div>\n",
              "  "
            ],
            "text/plain": [
              "     Actual  Predicted  Propensity\n",
              "0         1          1    0.817726\n",
              "1         1          1    0.817726\n",
              "2         1          1    0.816569\n",
              "3         1          1    0.816569\n",
              "4         1          1    0.816569\n",
              "..      ...        ...         ...\n",
              "842       0          0    0.492739\n",
              "843       1          0    0.492339\n",
              "844       1          0    0.491535\n",
              "845       0          0    0.491308\n",
              "846       0          0    0.490718\n",
              "\n",
              "[847 rows x 3 columns]"
            ]
          },
          "execution_count": 22,
          "metadata": {},
          "output_type": "execute_result"
        }
      ],
      "source": [
        "# Rank order propensities & display the first n records of the test dataset for which 80% are actual positives.\n",
        "# Report the value of n as a percentage of the size of the test dataset\n",
        "\n",
        "# First, compute the propensitiies of iunstances in the test dataset\n",
        "clf_propensities = pd.DataFrame(clf.predict_proba(X_test_std))\n",
        "\n",
        "# Create a dataframe showing actuals, predicted, and propensities\n",
        "y_pred = pd.DataFrame(y_pred)\n",
        "y_pred.reset_index(drop = True , inplace = True)\n",
        "y_test.reset_index(drop = True , inplace = True)\n",
        "results = pd.concat([y_test, y_pred, clf_propensities[1]], axis=1)\n",
        "results.columns= ['Actual','Predicted','Propensity']\n",
        "\n",
        "# Sort the instances in results by propsensity\n",
        "results.sort_values(by=['Propensity'], inplace=True, ascending=False)\n",
        "results.reset_index(drop = True , inplace = True)\n",
        "\n",
        "# Plot gains chart\n",
        "skplt.metrics.plot_cumulative_gain(y_test, clf_propensities)\n",
        "plt.show()\n",
        "\n",
        "# Find the top-rated instances in results such that the actual positive label for 'Converted' of those instances is greater than or equal to 80%\n",
        "# We will assume the first lead has a positive actual\n",
        "index = 2\n",
        "n = 1\n",
        "fraction = 1\n",
        "while ((index < len(results)) & (fraction >= 0.8)):\n",
        "  if results.loc[index,'Actual'] == 1:\n",
        "    n=n+1\n",
        "  fraction = n/index\n",
        "  index = index + 1\n",
        "\n",
        "print('Analysis: 80% of first',n,' instances rank-ordered by propensity are positive actuals in test dataset of size ',len(results))\n",
        "print('Percentage of rank-ordered data to take as leads: ',100*n/len(results))\n",
        "print('LEADS:\\n')\n",
        "results.loc[:n]"
      ]
    },
    {
      "cell_type": "code",
      "execution_count": null,
      "metadata": {
        "colab": {
          "base_uri": "https://localhost:8080/"
        },
        "id": "sQ6ArsjH50Uu",
        "outputId": "214822b5-2496-4e99-85cc-0da5bfcda471"
      },
      "outputs": [
        {
          "name": "stdout",
          "output_type": "stream",
          "text": [
            "[[1365   55]\n",
            " [ 112  778]]\n",
            "Accuracy =  0.9277056277056277\n",
            "Recall =  0.8741573033707866\n"
          ]
        }
      ],
      "source": [
        "print(confusion_matrix(y_test, y_pred))\n",
        "print(\"Accuracy = \",accuracy_score(y_test, y_pred))\n",
        "print(\"Recall = \",recall_score(y_test, y_pred))"
      ]
    },
    {
      "cell_type": "markdown",
      "metadata": {
        "id": "XWv7HBIG-Jiq"
      },
      "source": [
        "#**TPOT**"
      ]
    },
    {
      "cell_type": "code",
      "execution_count": null,
      "metadata": {
        "colab": {
          "base_uri": "https://localhost:8080/"
        },
        "id": "Z_VGH5BT-LX3",
        "outputId": "cf084116-ad36-4d5a-a033-3dbe9bb76bc1"
      },
      "outputs": [
        {
          "name": "stdout",
          "output_type": "stream",
          "text": [
            "Collecting tpot\n",
            "  Downloading TPOT-0.11.7-py3-none-any.whl (87 kB)\n",
            "\u001b[?25l\r\u001b[K     |███▊                            | 10 kB 4.5 MB/s eta 0:00:01\r\u001b[K     |███████▌                        | 20 kB 7.6 MB/s eta 0:00:01\r\u001b[K     |███████████▎                    | 30 kB 9.2 MB/s eta 0:00:01\r\u001b[K     |███████████████                 | 40 kB 8.5 MB/s eta 0:00:01\r\u001b[K     |██████████████████▉             | 51 kB 4.1 MB/s eta 0:00:01\r\u001b[K     |██████████████████████▋         | 61 kB 4.9 MB/s eta 0:00:01\r\u001b[K     |██████████████████████████▎     | 71 kB 5.1 MB/s eta 0:00:01\r\u001b[K     |██████████████████████████████  | 81 kB 5.6 MB/s eta 0:00:01\r\u001b[K     |████████████████████████████████| 87 kB 3.0 MB/s \n",
            "\u001b[?25hRequirement already satisfied: pandas>=0.24.2 in /usr/local/lib/python3.7/dist-packages (from tpot) (1.3.5)\n",
            "Requirement already satisfied: numpy>=1.16.3 in /usr/local/lib/python3.7/dist-packages (from tpot) (1.21.6)\n",
            "Collecting xgboost>=1.1.0\n",
            "  Downloading xgboost-1.6.1-py3-none-manylinux2014_x86_64.whl (192.9 MB)\n",
            "\u001b[K     |████████████████████████████████| 192.9 MB 60 kB/s \n",
            "\u001b[?25hCollecting deap>=1.2\n",
            "  Downloading deap-1.3.1-cp37-cp37m-manylinux_2_5_x86_64.manylinux1_x86_64.manylinux_2_12_x86_64.manylinux2010_x86_64.whl (160 kB)\n",
            "\u001b[K     |████████████████████████████████| 160 kB 44.2 MB/s \n",
            "\u001b[?25hRequirement already satisfied: scikit-learn>=0.22.0 in /usr/local/lib/python3.7/dist-packages (from tpot) (0.24.2)\n",
            "Requirement already satisfied: joblib>=0.13.2 in /usr/local/lib/python3.7/dist-packages (from tpot) (1.1.0)\n",
            "Requirement already satisfied: scipy>=1.3.1 in /usr/local/lib/python3.7/dist-packages (from tpot) (1.7.3)\n",
            "Collecting update-checker>=0.16\n",
            "  Downloading update_checker-0.18.0-py3-none-any.whl (7.0 kB)\n",
            "Collecting stopit>=1.1.1\n",
            "  Downloading stopit-1.1.2.tar.gz (18 kB)\n",
            "Requirement already satisfied: tqdm>=4.36.1 in /usr/local/lib/python3.7/dist-packages (from tpot) (4.64.0)\n",
            "Requirement already satisfied: pytz>=2017.3 in /usr/local/lib/python3.7/dist-packages (from pandas>=0.24.2->tpot) (2022.1)\n",
            "Requirement already satisfied: python-dateutil>=2.7.3 in /usr/local/lib/python3.7/dist-packages (from pandas>=0.24.2->tpot) (2.8.2)\n",
            "Requirement already satisfied: six>=1.5 in /usr/local/lib/python3.7/dist-packages (from python-dateutil>=2.7.3->pandas>=0.24.2->tpot) (1.15.0)\n",
            "Requirement already satisfied: threadpoolctl>=2.0.0 in /usr/local/lib/python3.7/dist-packages (from scikit-learn>=0.22.0->tpot) (3.1.0)\n",
            "Requirement already satisfied: requests>=2.3.0 in /usr/local/lib/python3.7/dist-packages (from update-checker>=0.16->tpot) (2.23.0)\n",
            "Requirement already satisfied: certifi>=2017.4.17 in /usr/local/lib/python3.7/dist-packages (from requests>=2.3.0->update-checker>=0.16->tpot) (2021.10.8)\n",
            "Requirement already satisfied: idna<3,>=2.5 in /usr/local/lib/python3.7/dist-packages (from requests>=2.3.0->update-checker>=0.16->tpot) (2.10)\n",
            "Requirement already satisfied: urllib3!=1.25.0,!=1.25.1,<1.26,>=1.21.1 in /usr/local/lib/python3.7/dist-packages (from requests>=2.3.0->update-checker>=0.16->tpot) (1.24.3)\n",
            "Requirement already satisfied: chardet<4,>=3.0.2 in /usr/local/lib/python3.7/dist-packages (from requests>=2.3.0->update-checker>=0.16->tpot) (3.0.4)\n",
            "Building wheels for collected packages: stopit\n",
            "  Building wheel for stopit (setup.py) ... \u001b[?25l\u001b[?25hdone\n",
            "  Created wheel for stopit: filename=stopit-1.1.2-py3-none-any.whl size=11956 sha256=e199108e2eae03d26a6427ea4aff049bc203d67ab810b4f67f779cc0913f4e22\n",
            "  Stored in directory: /root/.cache/pip/wheels/e2/d2/79/eaf81edb391e27c87f51b8ef901ecc85a5363dc96b8b8d71e3\n",
            "Successfully built stopit\n",
            "Installing collected packages: xgboost, update-checker, stopit, deap, tpot\n",
            "  Attempting uninstall: xgboost\n",
            "    Found existing installation: xgboost 0.90\n",
            "    Uninstalling xgboost-0.90:\n",
            "      Successfully uninstalled xgboost-0.90\n",
            "Successfully installed deap-1.3.1 stopit-1.1.2 tpot-0.11.7 update-checker-0.18.0 xgboost-1.6.1\n"
          ]
        }
      ],
      "source": [
        "!pip install tpot"
      ]
    },
    {
      "cell_type": "code",
      "execution_count": null,
      "metadata": {
        "id": "U9Z_elBp-OP9"
      },
      "outputs": [],
      "source": [
        "# Tree-based pipeline from TPOT: credits: http://automl.info/tpot/\n",
        "# import the AutoMLpackage after installing tpot.\n",
        "import tpot\n",
        "# import other necessary packages.\n",
        "from sklearn.model_selection import StratifiedKFold\n",
        "from sklearn.model_selection import RepeatedKFold\n",
        "from tpot import TPOTClassifier"
      ]
    },
    {
      "cell_type": "code",
      "execution_count": null,
      "metadata": {
        "colab": {
          "background_save": true,
          "base_uri": "https://localhost:8080/",
          "height": 833,
          "referenced_widgets": [
            "ef7f11c1359e48c5a1350aa8c370e2d5",
            "c2e39fcf18844495a7bcbf875486a53f",
            "209c9abb71fd41a8a352540db1153e86",
            "6ce49323a7f94ebe82c7e12798779f05",
            "82c6af01b8594ebc92bef6ad599ab2aa",
            "34ae13cb77d649bab7f20008fc171496",
            "51063c2cb987407286a218818ea7ff0d",
            "272f055a9340422fa9c12bf66e45ce6a",
            "dee38967f25b4238a72073070ab3009c",
            "d31623bfde854b6ba94f1a7eaf2a2db6",
            "46301a12d1b5408ea9dee73187630a18"
          ]
        },
        "id": "EkMT4HyV-RKO",
        "outputId": "0d86c3a8-7441-4b84-ce9b-cef936c9662c"
      },
      "outputs": [
        {
          "name": "stdout",
          "output_type": "stream",
          "text": [
            "32 operators have been imported by TPOT.\n"
          ]
        },
        {
          "data": {
            "application/vnd.jupyter.widget-view+json": {
              "model_id": "ef7f11c1359e48c5a1350aa8c370e2d5",
              "version_major": 2,
              "version_minor": 0
            },
            "text/plain": [
              "Optimization Progress:   0%|          | 0/300 [00:00<?, ?pipeline/s]"
            ]
          },
          "metadata": {},
          "output_type": "display_data"
        },
        {
          "name": "stdout",
          "output_type": "stream",
          "text": [
            "Skipped pipeline #16 due to time out. Continuing to the next pipeline.\n",
            "Skipped pipeline #18 due to time out. Continuing to the next pipeline.\n",
            "Skipped pipeline #45 due to time out. Continuing to the next pipeline.\n",
            "_pre_test decorator: _random_mutation_operator: num_test=0 Solver lbfgs supports only dual=False, got dual=True.\n",
            "Pipeline encountered that has previously been evaluated during the optimization process. Using the score from the previous evaluation.\n",
            "Pipeline encountered that has previously been evaluated during the optimization process. Using the score from the previous evaluation.\n",
            "Skipped pipeline #69 due to time out. Continuing to the next pipeline.\n",
            "Skipped pipeline #79 due to time out. Continuing to the next pipeline.\n",
            "Skipped pipeline #88 due to time out. Continuing to the next pipeline.\n",
            "Skipped pipeline #105 due to time out. Continuing to the next pipeline.\n",
            "\n",
            "Generation 1 - Current Pareto front scores:\n",
            "\n",
            "-1\t0.9782471807845996\tRandomForestClassifier(input_matrix, RandomForestClassifier__bootstrap=False, RandomForestClassifier__criterion=gini, RandomForestClassifier__max_features=0.15000000000000002, RandomForestClassifier__min_samples_leaf=6, RandomForestClassifier__min_samples_split=18, RandomForestClassifier__n_estimators=100)\n",
            "\n",
            "-2\t0.9795981001853623\tExtraTreesClassifier(Normalizer(input_matrix, Normalizer__norm=max), ExtraTreesClassifier__bootstrap=False, ExtraTreesClassifier__criterion=gini, ExtraTreesClassifier__max_features=1.0, ExtraTreesClassifier__min_samples_leaf=13, ExtraTreesClassifier__min_samples_split=3, ExtraTreesClassifier__n_estimators=100)\n",
            "_pre_test decorator: _random_mutation_operator: num_test=0 Expected n_neighbors <= n_samples,  but n_samples = 50, n_neighbors = 70.\n",
            "_pre_test decorator: _random_mutation_operator: num_test=0 Solver lbfgs supports only 'l2' or 'none' penalties, got l1 penalty..\n",
            "_pre_test decorator: _random_mutation_operator: num_test=0 Solver lbfgs supports only 'l2' or 'none' penalties, got l1 penalty..\n",
            "_pre_test decorator: _random_mutation_operator: num_test=0 Unsupported set of arguments: The combination of penalty='l1' and loss='squared_hinge' are not supported when dual=True, Parameters: penalty='l1', loss='squared_hinge', dual=True.\n",
            "_pre_test decorator: _random_mutation_operator: num_test=1 Negative values in data passed to MultinomialNB (input X).\n",
            "_pre_test decorator: _random_mutation_operator: num_test=0 Solver lbfgs supports only 'l2' or 'none' penalties, got l1 penalty..\n",
            "Pipeline encountered that has previously been evaluated during the optimization process. Using the score from the previous evaluation.\n",
            "Pipeline encountered that has previously been evaluated during the optimization process. Using the score from the previous evaluation.\n",
            "\n",
            "Generation 2 - Current Pareto front scores:\n",
            "\n",
            "-1\t0.9782471807845996\tRandomForestClassifier(input_matrix, RandomForestClassifier__bootstrap=False, RandomForestClassifier__criterion=gini, RandomForestClassifier__max_features=0.15000000000000002, RandomForestClassifier__min_samples_leaf=6, RandomForestClassifier__min_samples_split=18, RandomForestClassifier__n_estimators=100)\n",
            "\n",
            "-2\t0.9795981001853623\tExtraTreesClassifier(Normalizer(input_matrix, Normalizer__norm=max), ExtraTreesClassifier__bootstrap=False, ExtraTreesClassifier__criterion=gini, ExtraTreesClassifier__max_features=1.0, ExtraTreesClassifier__min_samples_leaf=13, ExtraTreesClassifier__min_samples_split=3, ExtraTreesClassifier__n_estimators=100)\n",
            "_pre_test decorator: _random_mutation_operator: num_test=0 Solver lbfgs supports only 'l2' or 'none' penalties, got l1 penalty..\n",
            "_pre_test decorator: _random_mutation_operator: num_test=0 Solver lbfgs supports only dual=False, got dual=True.\n",
            "_pre_test decorator: _random_mutation_operator: num_test=0 Negative values in data passed to MultinomialNB (input X).\n",
            "_pre_test decorator: _random_mutation_operator: num_test=0 Negative values in data passed to MultinomialNB (input X).\n",
            "Skipped pipeline #173 due to time out. Continuing to the next pipeline.\n",
            "\n",
            "Generation 3 - Current Pareto front scores:\n",
            "\n",
            "-1\t0.979411059339683\tExtraTreesClassifier(input_matrix, ExtraTreesClassifier__bootstrap=False, ExtraTreesClassifier__criterion=entropy, ExtraTreesClassifier__max_features=0.3, ExtraTreesClassifier__min_samples_leaf=2, ExtraTreesClassifier__min_samples_split=13, ExtraTreesClassifier__n_estimators=100)\n",
            "\n",
            "-2\t0.9795981001853623\tExtraTreesClassifier(Normalizer(input_matrix, Normalizer__norm=max), ExtraTreesClassifier__bootstrap=False, ExtraTreesClassifier__criterion=gini, ExtraTreesClassifier__max_features=1.0, ExtraTreesClassifier__min_samples_leaf=13, ExtraTreesClassifier__min_samples_split=3, ExtraTreesClassifier__n_estimators=100)\n",
            "_pre_test decorator: _random_mutation_operator: num_test=0 Solver lbfgs supports only dual=False, got dual=True.\n",
            "_pre_test decorator: _random_mutation_operator: num_test=0 Solver lbfgs supports only 'l2' or 'none' penalties, got l1 penalty..\n",
            "Skipped pipeline #222 due to time out. Continuing to the next pipeline.\n",
            "Skipped pipeline #246 due to time out. Continuing to the next pipeline.\n",
            "\n",
            "Generation 4 - Current Pareto front scores:\n",
            "\n",
            "-1\t0.979411059339683\tExtraTreesClassifier(input_matrix, ExtraTreesClassifier__bootstrap=False, ExtraTreesClassifier__criterion=entropy, ExtraTreesClassifier__max_features=0.3, ExtraTreesClassifier__min_samples_leaf=2, ExtraTreesClassifier__min_samples_split=13, ExtraTreesClassifier__n_estimators=100)\n",
            "\n",
            "-2\t0.9801059720344834\tExtraTreesClassifier(GaussianNB(input_matrix), ExtraTreesClassifier__bootstrap=False, ExtraTreesClassifier__criterion=gini, ExtraTreesClassifier__max_features=0.3, ExtraTreesClassifier__min_samples_leaf=6, ExtraTreesClassifier__min_samples_split=13, ExtraTreesClassifier__n_estimators=100)\n",
            "_pre_test decorator: _random_mutation_operator: num_test=0 Negative values in data passed to MultinomialNB (input X).\n",
            "_pre_test decorator: _random_mutation_operator: num_test=0 Solver lbfgs supports only 'l2' or 'none' penalties, got l1 penalty..\n",
            "_pre_test decorator: _random_mutation_operator: num_test=0 Negative values in data passed to MultinomialNB (input X).\n",
            "_pre_test decorator: _random_mutation_operator: num_test=0 Solver lbfgs supports only 'l2' or 'none' penalties, got l1 penalty..\n",
            "_pre_test decorator: _random_mutation_operator: num_test=0 Negative values in data passed to MultinomialNB (input X).\n",
            "_pre_test decorator: _random_mutation_operator: num_test=0 Unsupported set of arguments: The combination of penalty='l1' and loss='hinge' is not supported, Parameters: penalty='l1', loss='hinge', dual=False.\n",
            "_pre_test decorator: _random_mutation_operator: num_test=0 Solver lbfgs supports only dual=False, got dual=True.\n",
            "_pre_test decorator: _random_mutation_operator: num_test=0 Solver lbfgs supports only dual=False, got dual=True.\n",
            "_pre_test decorator: _random_mutation_operator: num_test=1 Solver lbfgs supports only 'l2' or 'none' penalties, got l1 penalty..\n",
            "_pre_test decorator: _random_mutation_operator: num_test=0 Solver lbfgs supports only 'l2' or 'none' penalties, got l1 penalty..\n",
            "_pre_test decorator: _random_mutation_operator: num_test=1 Unsupported set of arguments: The combination of penalty='l1' and loss='squared_hinge' are not supported when dual=True, Parameters: penalty='l1', loss='squared_hinge', dual=True.\n",
            "_pre_test decorator: _random_mutation_operator: num_test=0 manhattan was provided as affinity. Ward can only work with euclidean distances..\n",
            "_pre_test decorator: _random_mutation_operator: num_test=1 manhattan was provided as affinity. Ward can only work with euclidean distances..\n",
            "\n",
            "Generation 5 - Current Pareto front scores:\n",
            "\n",
            "-1\t0.979411059339683\tExtraTreesClassifier(input_matrix, ExtraTreesClassifier__bootstrap=False, ExtraTreesClassifier__criterion=entropy, ExtraTreesClassifier__max_features=0.3, ExtraTreesClassifier__min_samples_leaf=2, ExtraTreesClassifier__min_samples_split=13, ExtraTreesClassifier__n_estimators=100)\n",
            "\n",
            "-2\t0.9801059720344834\tExtraTreesClassifier(GaussianNB(input_matrix), ExtraTreesClassifier__bootstrap=False, ExtraTreesClassifier__criterion=gini, ExtraTreesClassifier__max_features=0.3, ExtraTreesClassifier__min_samples_leaf=6, ExtraTreesClassifier__min_samples_split=13, ExtraTreesClassifier__n_estimators=100)\n",
            "AUC: 0.9182584269662921\n",
            "Accuracy: 0.9704442949833834\n"
          ]
        }
      ],
      "source": [
        "# Let TPOT build a model!\n",
        "cv = RepeatedKFold(n_splits=10, n_repeats=3, random_state=1)\n",
        "clf = TPOTClassifier(generations=5, population_size=50, cv=cv, scoring='roc_auc', verbosity=3, random_state=1, n_jobs=-1)\n",
        "clf.fit(X_train_SMOTE_std, y_train_SMOTE)\n",
        "# evaluate best model\n",
        "y_pred = clf.predict(X_test_std)\n",
        "print(f'AUC: {roc_auc_score(y_test, y_pred)}')\n",
        "print(f'Accuracy: {clf.score(X_test_std, y_test)}')"
      ]
    },
    {
      "cell_type": "code",
      "execution_count": null,
      "metadata": {
        "colab": {
          "background_save": true
        },
        "id": "tcgQAwJC-UX9",
        "outputId": "f45ae9af-f08f-4df2-bf72-d49071e2389c"
      },
      "outputs": [
        {
          "data": {
            "text/plain": [
              "Pipeline(steps=[('stackingestimator',\n",
              "                 StackingEstimator(estimator=GaussianNB())),\n",
              "                ('extratreesclassifier',\n",
              "                 ExtraTreesClassifier(max_features=0.3, min_samples_leaf=6,\n",
              "                                      min_samples_split=13, random_state=1))])"
            ]
          },
          "execution_count": null,
          "metadata": {},
          "output_type": "execute_result"
        }
      ],
      "source": [
        "# Show the final model\n",
        "clf.fitted_pipeline_"
      ]
    },
    {
      "cell_type": "code",
      "execution_count": null,
      "metadata": {
        "colab": {
          "background_save": true
        },
        "id": "Lycn4Ct96IpY",
        "outputId": "e0045d52-1ed7-457a-bc8f-7f93846418f8"
      },
      "outputs": [
        {
          "name": "stdout",
          "output_type": "stream",
          "text": [
            "[[1349   71]\n",
            " [ 101  789]]\n",
            "Accuracy =  0.9255411255411256\n",
            "Recall =  0.8865168539325843\n"
          ]
        }
      ],
      "source": [
        "print(confusion_matrix(y_test, y_pred))\n",
        "print(\"Accuracy = \",accuracy_score(y_test, y_pred))\n",
        "print(\"Recall = \",recall_score(y_test, y_pred))"
      ]
    },
    {
      "cell_type": "markdown",
      "metadata": {
        "id": "dmfsC4t0-Yek"
      },
      "source": [
        "The top of the combined M4 and M7 leaderboard is as follows:\n",
        "\n",
        "|**Regressor** |    AUC    |       Accuracy      | Confusion Matrix |\n",
        "|:----------------------|:------------:|:--------------:|:--------------:|\n",
        "|Auto-Sklearn Pipeline | 0.932 | 0.923 | $$\\begin{bmatrix} 1365 & 55 \\\\ 101 & 788\\\\\\end{bmatrix}$$ |\n",
        "|TPOT Pipeline  | 0.918 | 0.925 | $$\\begin{bmatrix} 1349 & 71 \\\\ 101 & 789\\\\\\end{bmatrix}$$ |\n",
        "|XGBoost (M4 notebook) | 0.879 | 0.887 | $$\\begin{bmatrix} 1297 & 123 \\\\ 137 & 753\\\\\\end{bmatrix}$$ |\n",
        "\n"
      ]
    },
    {
      "cell_type": "markdown",
      "metadata": {
        "id": "na02_5v3MjqD"
      },
      "source": [
        "#**Conclusions**\n",
        "Auto-Sklearn appears to have the edge over TPOT, but there's not much in it. The Auto-Sklearn pipeline has an AUC of around 0.92 and an accuracy of around 0.92."
      ]
    }
  ],
  "metadata": {
    "colab": {
      "collapsed_sections": [
        "W-b5eW3mtDAb",
        "63WtBvvxvcaY",
        "na02_5v3MjqD"
      ],
      "provenance": []
    },
    "kernelspec": {
      "display_name": "Python 3",
      "name": "python3"
    },
    "language_info": {
      "name": "python"
    },
    "widgets": {
      "application/vnd.jupyter.widget-state+json": {
        "209c9abb71fd41a8a352540db1153e86": {
          "model_module": "@jupyter-widgets/controls",
          "model_module_version": "1.5.0",
          "model_name": "FloatProgressModel",
          "state": {
            "_dom_classes": [],
            "_model_module": "@jupyter-widgets/controls",
            "_model_module_version": "1.5.0",
            "_model_name": "FloatProgressModel",
            "_view_count": null,
            "_view_module": "@jupyter-widgets/controls",
            "_view_module_version": "1.5.0",
            "_view_name": "ProgressView",
            "bar_style": "",
            "description": "",
            "description_tooltip": null,
            "layout": "IPY_MODEL_272f055a9340422fa9c12bf66e45ce6a",
            "max": 300,
            "min": 0,
            "orientation": "horizontal",
            "style": "IPY_MODEL_dee38967f25b4238a72073070ab3009c",
            "value": 209
          }
        },
        "272f055a9340422fa9c12bf66e45ce6a": {
          "model_module": "@jupyter-widgets/base",
          "model_module_version": "1.2.0",
          "model_name": "LayoutModel",
          "state": {
            "_model_module": "@jupyter-widgets/base",
            "_model_module_version": "1.2.0",
            "_model_name": "LayoutModel",
            "_view_count": null,
            "_view_module": "@jupyter-widgets/base",
            "_view_module_version": "1.2.0",
            "_view_name": "LayoutView",
            "align_content": null,
            "align_items": null,
            "align_self": null,
            "border": null,
            "bottom": null,
            "display": null,
            "flex": null,
            "flex_flow": null,
            "grid_area": null,
            "grid_auto_columns": null,
            "grid_auto_flow": null,
            "grid_auto_rows": null,
            "grid_column": null,
            "grid_gap": null,
            "grid_row": null,
            "grid_template_areas": null,
            "grid_template_columns": null,
            "grid_template_rows": null,
            "height": null,
            "justify_content": null,
            "justify_items": null,
            "left": null,
            "margin": null,
            "max_height": null,
            "max_width": null,
            "min_height": null,
            "min_width": null,
            "object_fit": null,
            "object_position": null,
            "order": null,
            "overflow": null,
            "overflow_x": null,
            "overflow_y": null,
            "padding": null,
            "right": null,
            "top": null,
            "visibility": null,
            "width": null
          }
        },
        "34ae13cb77d649bab7f20008fc171496": {
          "model_module": "@jupyter-widgets/base",
          "model_module_version": "1.2.0",
          "model_name": "LayoutModel",
          "state": {
            "_model_module": "@jupyter-widgets/base",
            "_model_module_version": "1.2.0",
            "_model_name": "LayoutModel",
            "_view_count": null,
            "_view_module": "@jupyter-widgets/base",
            "_view_module_version": "1.2.0",
            "_view_name": "LayoutView",
            "align_content": null,
            "align_items": null,
            "align_self": null,
            "border": null,
            "bottom": null,
            "display": null,
            "flex": null,
            "flex_flow": null,
            "grid_area": null,
            "grid_auto_columns": null,
            "grid_auto_flow": null,
            "grid_auto_rows": null,
            "grid_column": null,
            "grid_gap": null,
            "grid_row": null,
            "grid_template_areas": null,
            "grid_template_columns": null,
            "grid_template_rows": null,
            "height": null,
            "justify_content": null,
            "justify_items": null,
            "left": null,
            "margin": null,
            "max_height": null,
            "max_width": null,
            "min_height": null,
            "min_width": null,
            "object_fit": null,
            "object_position": null,
            "order": null,
            "overflow": null,
            "overflow_x": null,
            "overflow_y": null,
            "padding": null,
            "right": null,
            "top": null,
            "visibility": null,
            "width": null
          }
        },
        "46301a12d1b5408ea9dee73187630a18": {
          "model_module": "@jupyter-widgets/controls",
          "model_module_version": "1.5.0",
          "model_name": "DescriptionStyleModel",
          "state": {
            "_model_module": "@jupyter-widgets/controls",
            "_model_module_version": "1.5.0",
            "_model_name": "DescriptionStyleModel",
            "_view_count": null,
            "_view_module": "@jupyter-widgets/base",
            "_view_module_version": "1.2.0",
            "_view_name": "StyleView",
            "description_width": ""
          }
        },
        "51063c2cb987407286a218818ea7ff0d": {
          "model_module": "@jupyter-widgets/controls",
          "model_module_version": "1.5.0",
          "model_name": "DescriptionStyleModel",
          "state": {
            "_model_module": "@jupyter-widgets/controls",
            "_model_module_version": "1.5.0",
            "_model_name": "DescriptionStyleModel",
            "_view_count": null,
            "_view_module": "@jupyter-widgets/base",
            "_view_module_version": "1.2.0",
            "_view_name": "StyleView",
            "description_width": ""
          }
        },
        "6ce49323a7f94ebe82c7e12798779f05": {
          "model_module": "@jupyter-widgets/controls",
          "model_module_version": "1.5.0",
          "model_name": "HTMLModel",
          "state": {
            "_dom_classes": [],
            "_model_module": "@jupyter-widgets/controls",
            "_model_module_version": "1.5.0",
            "_model_name": "HTMLModel",
            "_view_count": null,
            "_view_module": "@jupyter-widgets/controls",
            "_view_module_version": "1.5.0",
            "_view_name": "HTMLView",
            "description": "",
            "description_tooltip": null,
            "layout": "IPY_MODEL_d31623bfde854b6ba94f1a7eaf2a2db6",
            "placeholder": "​",
            "style": "IPY_MODEL_46301a12d1b5408ea9dee73187630a18",
            "value": " 209/300 [2:30:59&lt;45:30, 30.00s/pipeline]"
          }
        },
        "82c6af01b8594ebc92bef6ad599ab2aa": {
          "model_module": "@jupyter-widgets/base",
          "model_module_version": "1.2.0",
          "model_name": "LayoutModel",
          "state": {
            "_model_module": "@jupyter-widgets/base",
            "_model_module_version": "1.2.0",
            "_model_name": "LayoutModel",
            "_view_count": null,
            "_view_module": "@jupyter-widgets/base",
            "_view_module_version": "1.2.0",
            "_view_name": "LayoutView",
            "align_content": null,
            "align_items": null,
            "align_self": null,
            "border": null,
            "bottom": null,
            "display": null,
            "flex": null,
            "flex_flow": null,
            "grid_area": null,
            "grid_auto_columns": null,
            "grid_auto_flow": null,
            "grid_auto_rows": null,
            "grid_column": null,
            "grid_gap": null,
            "grid_row": null,
            "grid_template_areas": null,
            "grid_template_columns": null,
            "grid_template_rows": null,
            "height": null,
            "justify_content": null,
            "justify_items": null,
            "left": null,
            "margin": null,
            "max_height": null,
            "max_width": null,
            "min_height": null,
            "min_width": null,
            "object_fit": null,
            "object_position": null,
            "order": null,
            "overflow": null,
            "overflow_x": null,
            "overflow_y": null,
            "padding": null,
            "right": null,
            "top": null,
            "visibility": null,
            "width": null
          }
        },
        "c2e39fcf18844495a7bcbf875486a53f": {
          "model_module": "@jupyter-widgets/controls",
          "model_module_version": "1.5.0",
          "model_name": "HTMLModel",
          "state": {
            "_dom_classes": [],
            "_model_module": "@jupyter-widgets/controls",
            "_model_module_version": "1.5.0",
            "_model_name": "HTMLModel",
            "_view_count": null,
            "_view_module": "@jupyter-widgets/controls",
            "_view_module_version": "1.5.0",
            "_view_name": "HTMLView",
            "description": "",
            "description_tooltip": null,
            "layout": "IPY_MODEL_34ae13cb77d649bab7f20008fc171496",
            "placeholder": "​",
            "style": "IPY_MODEL_51063c2cb987407286a218818ea7ff0d",
            "value": "Optimization Progress:  70%"
          }
        },
        "d31623bfde854b6ba94f1a7eaf2a2db6": {
          "model_module": "@jupyter-widgets/base",
          "model_module_version": "1.2.0",
          "model_name": "LayoutModel",
          "state": {
            "_model_module": "@jupyter-widgets/base",
            "_model_module_version": "1.2.0",
            "_model_name": "LayoutModel",
            "_view_count": null,
            "_view_module": "@jupyter-widgets/base",
            "_view_module_version": "1.2.0",
            "_view_name": "LayoutView",
            "align_content": null,
            "align_items": null,
            "align_self": null,
            "border": null,
            "bottom": null,
            "display": null,
            "flex": null,
            "flex_flow": null,
            "grid_area": null,
            "grid_auto_columns": null,
            "grid_auto_flow": null,
            "grid_auto_rows": null,
            "grid_column": null,
            "grid_gap": null,
            "grid_row": null,
            "grid_template_areas": null,
            "grid_template_columns": null,
            "grid_template_rows": null,
            "height": null,
            "justify_content": null,
            "justify_items": null,
            "left": null,
            "margin": null,
            "max_height": null,
            "max_width": null,
            "min_height": null,
            "min_width": null,
            "object_fit": null,
            "object_position": null,
            "order": null,
            "overflow": null,
            "overflow_x": null,
            "overflow_y": null,
            "padding": null,
            "right": null,
            "top": null,
            "visibility": null,
            "width": null
          }
        },
        "dee38967f25b4238a72073070ab3009c": {
          "model_module": "@jupyter-widgets/controls",
          "model_module_version": "1.5.0",
          "model_name": "ProgressStyleModel",
          "state": {
            "_model_module": "@jupyter-widgets/controls",
            "_model_module_version": "1.5.0",
            "_model_name": "ProgressStyleModel",
            "_view_count": null,
            "_view_module": "@jupyter-widgets/base",
            "_view_module_version": "1.2.0",
            "_view_name": "StyleView",
            "bar_color": null,
            "description_width": ""
          }
        },
        "ef7f11c1359e48c5a1350aa8c370e2d5": {
          "model_module": "@jupyter-widgets/controls",
          "model_module_version": "1.5.0",
          "model_name": "HBoxModel",
          "state": {
            "_dom_classes": [],
            "_model_module": "@jupyter-widgets/controls",
            "_model_module_version": "1.5.0",
            "_model_name": "HBoxModel",
            "_view_count": null,
            "_view_module": "@jupyter-widgets/controls",
            "_view_module_version": "1.5.0",
            "_view_name": "HBoxView",
            "box_style": "",
            "children": [
              "IPY_MODEL_c2e39fcf18844495a7bcbf875486a53f",
              "IPY_MODEL_209c9abb71fd41a8a352540db1153e86",
              "IPY_MODEL_6ce49323a7f94ebe82c7e12798779f05"
            ],
            "layout": "IPY_MODEL_82c6af01b8594ebc92bef6ad599ab2aa"
          }
        }
      }
    }
  },
  "nbformat": 4,
  "nbformat_minor": 0
}
